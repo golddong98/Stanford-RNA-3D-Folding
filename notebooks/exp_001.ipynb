{
  "nbformat": 4,
  "nbformat_minor": 0,
  "metadata": {
    "colab": {
      "provenance": [],
      "machine_shape": "hm"
    },
    "kernelspec": {
      "name": "python3",
      "display_name": "Python 3"
    },
    "language_info": {
      "name": "python"
    }
  },
  "cells": [
    {
      "cell_type": "code",
      "execution_count": null,
      "metadata": {
        "id": "XCOPfZeQtJZ0"
      },
      "outputs": [],
      "source": [
        "import pandas as pd\n",
        "import torch\n",
        "import matplotlib.pyplot as plt\n",
        "import numpy as np\n",
        "import torch\n",
        "import random\n",
        "import pickle"
      ]
    },
    {
      "cell_type": "code",
      "source": [
        "config = {\n",
        "    \"seed\": 0,\n",
        "    \"cutoff_date\": \"2020-01-01\",\n",
        "    \"test_cutoff_date\": \"2022-05-01\",\n",
        "    \"max_len\": 384,\n",
        "    \"batch_size\": 1,\n",
        "    \"learning_rate\": 1e-4,\n",
        "    \"weight_decay\": 0.0,\n",
        "    \"mixed_precision\": \"bf16\",\n",
        "    \"model_config_path\": \"../working/configs/pairwise.yaml\", # Adjust path as needed\n",
        "    \"epochs\": 10,\n",
        "    \"cos_epoch\": 5,\n",
        "    \"loss_power_scale\": 1.0,\n",
        "    \"max_cycles\": 1,\n",
        "    \"grad_clip\": 0.1,\n",
        "    \"gradient_accumulation_steps\": 1,\n",
        "    \"d_clamp\": 30,\n",
        "    \"max_len_filter\": 9999999,\n",
        "    \"structural_violation_epoch\": 50,\n",
        "    \"balance_weight\": False,\n",
        "}"
      ],
      "metadata": {
        "id": "iQcyQ8XutVam"
      },
      "execution_count": null,
      "outputs": []
    },
    {
      "cell_type": "code",
      "source": [
        "# from google.colab import drive\n",
        "\n",
        "# drive.mount(\"/content/drive/MyDrive/Colab Notebooks/RNA_DATA/train_sequences.csv\")\n",
        "test_data=pd.read_csv(\"/content/drive/MyDrive/Colab Notebooks/RNA_DATA/stanford-rna-3d-folding/test_sequences.csv\") # 각자 수정"
      ],
      "metadata": {
        "id": "4LCPzdhkt-U-"
      },
      "execution_count": null,
      "outputs": []
    },
    {
      "cell_type": "code",
      "source": [
        "from torch.utils.data import Dataset, DataLoader\n",
        "\n",
        "class RNADataset(Dataset):\n",
        "  def __init__(self, data):\n",
        "    self.data = data\n",
        "    self.tokens={nt:i for i,nt in enumerate(\"ACGU\")}\n",
        "\n",
        "  def __len__(self):\n",
        "    return len(self.data)\n",
        "\n",
        "  def __getitem__(self, idx):\n",
        "    sequence=[self.tokens[nt] for nt in (self.data.loc[idx, \"sequence\"])]\n",
        "    sequence=np.array(sequence)\n",
        "    sequence=torch.tensor(sequence)\n",
        "\n",
        "    return {'sequence': sequence}"
      ],
      "metadata": {
        "id": "BtEPoIV9uICl"
      },
      "execution_count": null,
      "outputs": []
    },
    {
      "cell_type": "code",
      "source": [
        "test_dataset=RNADataset(test_data)\n",
        "test_dataset[0]"
      ],
      "metadata": {
        "colab": {
          "base_uri": "https://localhost:8080/"
        },
        "id": "yq9P58m3uou7",
        "outputId": "fbd07e37-a304-44ef-d099-ec2312137da0"
      },
      "execution_count": null,
      "outputs": [
        {
          "output_type": "execute_result",
          "data": {
            "text/plain": [
              "{'sequence': tensor([2, 2, 2, 2, 2, 1, 1, 0, 1, 0, 2, 1, 0, 2, 0, 0, 2, 1, 2, 3, 3, 1, 0, 1,\n",
              "         2, 3, 1, 2, 1, 0, 2, 1, 1, 1, 1, 3, 2, 3, 1, 0, 2, 1, 1, 0, 3, 3, 2, 1,\n",
              "         0, 1, 3, 1, 1, 2, 2, 1, 3, 2, 1, 2, 0, 0, 3, 3, 1, 3, 2, 1, 3])}"
            ]
          },
          "metadata": {},
          "execution_count": 13
        }
      ]
    },
    {
      "cell_type": "code",
      "source": [
        "import sys\n",
        "\n",
        "sys.path.append(\"/content/drive/MyDrive/Colab Notebooks/RNA_DATA/ribonanzanet2d-final\")\n",
        "\n",
        "from Network import *\n",
        "import yaml\n",
        "\n",
        "class Config:\n",
        "  def __init__(self, **entries):\n",
        "    self.__dict__.update(entries)\n",
        "    self.entries=entries\n",
        "\n",
        "  def print(self):\n",
        "    print(self.entries)\n",
        "\n",
        "def load_config_from_yaml(file_path):\n",
        "  with open(file_path, 'r') as file:\n",
        "    config = yaml.safe_load(file)\n",
        "  return Config(**config)\n",
        "\n",
        "class finetuned_RibonanzaNet(RibonanzaNet):\n",
        "  def __init__(self, config, pretrained=False):\n",
        "    config.dropout=0.2\n",
        "    super(finetuned_RibonanzaNet, self).__init__(config)\n",
        "    if pretrained:\n",
        "      self.load_state_dict(torch.load(\"/content/drive/MyDrive/Colab Notebooks/RNA_DATA/ribonananet-weights/RibonanaNet.pt\", map_location='cpu'))\n",
        "      # self.ct_predictor = nn.Sequential(nn.Linear(64, 256),\n",
        "      #                                   nn.ReLU),\n",
        "      #                                   nn.Linear(256, 64),\n",
        "      #                                   nn.ReLU(),\n",
        "      #                                   nn.Linear(64,1))\n",
        "      self.dropout=nn.Dropout(0,0)\n",
        "      self.xyz_predictor=nn.Linear(256,3)\n",
        "\n",
        "  def forward(self, src):\n",
        "    # with torch.no_grad():\n",
        "    sequence_features, pairwise_features=self.get_embeddings(src, torch.ones_like(src).long().to(src.device))\n",
        "\n",
        "    xyz=self.xyz_predictor(sequence_features)\n",
        "\n",
        "    return xyz\n"
      ],
      "metadata": {
        "id": "TOYSozsVvirw"
      },
      "execution_count": null,
      "outputs": []
    },
    {
      "cell_type": "code",
      "source": [
        "model=finetuned_RibonanzaNet(load_config_from_yaml(\"/content/drive/MyDrive/Colab Notebooks/RNA_DATA/ribonanzanet2d-final/configs/pairwise.yaml\"), pretrained=False).cuda()\n",
        "\n",
        "model.load_state_dict(torch.load(\"/content/drive/MyDrive/Colab Notebooks/RNA_DATA/ribonanzanet-3d-finetune/RibonanzaNet-3D.pt\"))"
      ],
      "metadata": {
        "id": "GlbHesjD40Rs"
      },
      "execution_count": null,
      "outputs": []
    },
    {
      "cell_type": "code",
      "source": [
        "test_dataset[0]['sequence'].shape"
      ],
      "metadata": {
        "id": "BBD5zI6yk3XR"
      },
      "execution_count": null,
      "outputs": []
    },
    {
      "cell_type": "code",
      "source": [
        "model.eval()\n",
        "preds=[]\n",
        "for i in range(len(test_dataset)):\n",
        "    src=test_dataset[i]['sequence'].long()\n",
        "    src=src.unsqueeze(0).cuda()\n",
        "\n",
        "    model.train()\n",
        "\n",
        "    tmp=[]\n",
        "    for i in range(4):\n",
        "        with torch.no_grad():\n",
        "            xyz=model(src).squeeze()\n",
        "        tmp.append(xyz.cpu().numpy())\n",
        "\n",
        "    model.eval()\n",
        "    with torch.no_grad():\n",
        "        xyz=model(src).squeeze()\n",
        "    tmp.append(xyz.cpu().numpy())\n",
        "\n",
        "    tmp=np.stack(tmp,0)\n",
        "    #exit()\n",
        "    preds.append(tmp)"
      ],
      "metadata": {
        "id": "GOLNSLAYk8VS"
      },
      "execution_count": null,
      "outputs": []
    },
    {
      "cell_type": "code",
      "source": [
        "tmp.shape"
      ],
      "metadata": {
        "id": "08YBEj12k9Ie"
      },
      "execution_count": null,
      "outputs": []
    },
    {
      "cell_type": "code",
      "source": [
        "preds[0]"
      ],
      "metadata": {
        "id": "Nbs9Uy8Wk_Jl"
      },
      "execution_count": null,
      "outputs": []
    },
    {
      "cell_type": "code",
      "source": [
        "preds[7][0].shape"
      ],
      "metadata": {
        "id": "KewkABoZlA8W"
      },
      "execution_count": null,
      "outputs": []
    },
    {
      "cell_type": "code",
      "source": [
        "import plotly.graph_objects as go\n",
        "import numpy as np\n",
        "\n",
        "# Example: Generate an Nx3 matrix\n",
        "\n",
        "xyz = preds[7][0]  # Replace this with your actual Nx3 data\n",
        "N = len(xyz)\n",
        "\n",
        "# Extract columns\n",
        "x, y, z = xyz[:, 0], xyz[:, 1], xyz[:, 2]\n",
        "\n",
        "# Create the 3D scatter plot\n",
        "fig = go.Figure(data=[go.Scatter3d(\n",
        "    x=x, y=y, z=z,\n",
        "    mode='markers',\n",
        "    marker=dict(\n",
        "        size=5,\n",
        "        color=z,  # Coloring based on z-value\n",
        "        colorscale='Viridis',  # Choose a colorscale\n",
        "        opacity=0.8\n",
        "    )\n",
        ")])\n",
        "\n",
        "# Customize layout\n",
        "fig.update_layout(\n",
        "    scene=dict(\n",
        "        xaxis_title=\"X\",\n",
        "        yaxis_title=\"Y\",\n",
        "        zaxis_title=\"Z\"\n",
        "    ),\n",
        "    title=\"3D Scatter Plot\"\n",
        ")\n",
        "\n",
        "# Show figure\n",
        "fig.show(renderer='iframe')"
      ],
      "metadata": {
        "id": "OYmMZE31lDLi"
      },
      "execution_count": null,
      "outputs": []
    },
    {
      "cell_type": "code",
      "source": [
        "ID=[]\n",
        "resname=[]\n",
        "resid=[]\n",
        "x=[]\n",
        "y=[]\n",
        "z=[]\n",
        "\n",
        "data=[]\n",
        "\n",
        "for i in range(len(test_data)):\n",
        "    #print(test_data.loc[i])\n",
        "\n",
        "\n",
        "    for j in range(len(test_data.loc[i,'sequence'])):\n",
        "        # ID.append(test_data.loc[i,'sequence_id']+f\"_{j+1}\")\n",
        "        # resname.append(test_data.loc[i,'sequence'][j])\n",
        "        # resid.append(j+1) # 1 indexed\n",
        "        row=[test_data.loc[i,'target_id']+f\"_{j+1}\",\n",
        "             test_data.loc[i,'sequence'][j],\n",
        "             j+1]\n",
        "\n",
        "        for k in range(5):\n",
        "            for kk in range(3):\n",
        "                row.append(preds[i][k][j][kk])\n",
        "        data.append(row)\n",
        "\n",
        "columns=['ID','resname','resid']\n",
        "for i in range(1,6):\n",
        "    columns+=[f\"x_{i}\"]\n",
        "    columns+=[f\"y_{i}\"]\n",
        "    columns+=[f\"z_{i}\"]\n",
        "\n",
        "\n",
        "submission=pd.DataFrame(data,columns=columns)\n",
        "\n",
        "\n",
        "submission\n",
        "submission.to_csv('submission.csv',index=False)"
      ],
      "metadata": {
        "id": "2gm18JaalFhl"
      },
      "execution_count": null,
      "outputs": []
    },
    {
      "cell_type": "code",
      "source": [
        "submission"
      ],
      "metadata": {
        "id": "AgN9n4YTlG_n"
      },
      "execution_count": null,
      "outputs": []
    }
  ]
}