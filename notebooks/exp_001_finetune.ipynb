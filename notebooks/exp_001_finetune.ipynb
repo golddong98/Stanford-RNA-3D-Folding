{
  "nbformat": 4,
  "nbformat_minor": 0,
  "metadata": {
    "colab": {
      "provenance": [],
      "machine_shape": "hm",
      "gpuType": "A100"
    },
    "kernelspec": {
      "name": "python3",
      "display_name": "Python 3"
    },
    "language_info": {
      "name": "python"
    },
    "accelerator": "GPU"
  },
  "cells": [
    {
      "cell_type": "code",
      "execution_count": null,
      "metadata": {
        "id": "DzmTjliD6dQg"
      },
      "outputs": [],
      "source": [
        "import pandas as pd\n",
        "import torch\n",
        "import matplotlib.pyplot as plt\n",
        "import numpy as np\n",
        "import torch\n",
        "import random\n",
        "import pickle\n",
        "from tqdm import tqdm"
      ]
    },
    {
      "cell_type": "code",
      "source": [
        "#set seed for everything\n",
        "torch.manual_seed(0)\n",
        "np.random.seed(0)\n",
        "random.seed(0)"
      ],
      "metadata": {
        "id": "anVzScC-6n-3"
      },
      "execution_count": null,
      "outputs": []
    },
    {
      "cell_type": "code",
      "source": [
        "config = {\n",
        "    \"seed\": 0,\n",
        "    \"cutoff_date\": \"2020-01-01\",\n",
        "    \"test_cutoff_date\": \"2022-05-01\",\n",
        "    \"max_len\": 384,\n",
        "    \"batch_size\": 1,\n",
        "    \"learning_rate\": 1e-4,\n",
        "    \"weight_decay\": 0.0,\n",
        "    \"mixed_precision\": \"bf16\",\n",
        "    \"model_config_path\": \"../working/configs/pairwise.yaml\",  # Adjust path as needed\n",
        "    \"epochs\": 10,\n",
        "    \"cos_epoch\": 5,\n",
        "    \"loss_power_scale\": 1.0,\n",
        "    \"max_cycles\": 1,\n",
        "    \"grad_clip\": 0.1,\n",
        "    \"gradient_accumulation_steps\": 1,\n",
        "    \"d_clamp\": 30,\n",
        "    \"max_len_filter\": 9999999,\n",
        "    \"min_len_filter\": 10,\n",
        "    \"structural_violation_epoch\": 50,\n",
        "    \"balance_weight\": False,\n",
        "}"
      ],
      "metadata": {
        "id": "_TqwlRwT6qZE"
      },
      "execution_count": null,
      "outputs": []
    },
    {
      "cell_type": "code",
      "source": [
        "# Load data\n",
        "\n",
        "train_sequences=pd.read_csv(\"/content/drive/MyDrive/Colab Notebooks/RNA_DATA/stanford-rna-3d-folding/train_sequences.csv\")\n",
        "train_labels=pd.read_csv(\"/content/drive/MyDrive/Colab Notebooks/RNA_DATA/stanford-rna-3d-folding/train_labels.csv\")"
      ],
      "metadata": {
        "id": "3wvac3XY6rjd"
      },
      "execution_count": null,
      "outputs": []
    },
    {
      "cell_type": "code",
      "source": [
        "# from google.colab import drive\n",
        "# drive.mount('/content/drive')"
      ],
      "metadata": {
        "id": "SfraTSeS7NT4"
      },
      "execution_count": null,
      "outputs": []
    },
    {
      "cell_type": "code",
      "source": [
        "# apply: 데이터 변경\n",
        "train_labels[\"pdb_id\"] = train_labels[\"ID\"].apply(lambda x: x.split(\"_\")[0]+'_'+x.split(\"_\")[1])\n",
        "train_labels[\"pdb_id\"]"
      ],
      "metadata": {
        "colab": {
          "base_uri": "https://localhost:8080/",
          "height": 458
        },
        "id": "3FJOsq7v6-Qy",
        "outputId": "eaa3ae9a-3e0b-46e9-e3fd-4c5016b3a224"
      },
      "execution_count": null,
      "outputs": [
        {
          "output_type": "execute_result",
          "data": {
            "text/plain": [
              "0         1SCL_A\n",
              "1         1SCL_A\n",
              "2         1SCL_A\n",
              "3         1SCL_A\n",
              "4         1SCL_A\n",
              "           ...  \n",
              "137090    8Z1F_T\n",
              "137091    8Z1F_T\n",
              "137092    8Z1F_T\n",
              "137093    8Z1F_T\n",
              "137094    8Z1F_T\n",
              "Name: pdb_id, Length: 137095, dtype: object"
            ],
            "text/html": [
              "<div>\n",
              "<style scoped>\n",
              "    .dataframe tbody tr th:only-of-type {\n",
              "        vertical-align: middle;\n",
              "    }\n",
              "\n",
              "    .dataframe tbody tr th {\n",
              "        vertical-align: top;\n",
              "    }\n",
              "\n",
              "    .dataframe thead th {\n",
              "        text-align: right;\n",
              "    }\n",
              "</style>\n",
              "<table border=\"1\" class=\"dataframe\">\n",
              "  <thead>\n",
              "    <tr style=\"text-align: right;\">\n",
              "      <th></th>\n",
              "      <th>pdb_id</th>\n",
              "    </tr>\n",
              "  </thead>\n",
              "  <tbody>\n",
              "    <tr>\n",
              "      <th>0</th>\n",
              "      <td>1SCL_A</td>\n",
              "    </tr>\n",
              "    <tr>\n",
              "      <th>1</th>\n",
              "      <td>1SCL_A</td>\n",
              "    </tr>\n",
              "    <tr>\n",
              "      <th>2</th>\n",
              "      <td>1SCL_A</td>\n",
              "    </tr>\n",
              "    <tr>\n",
              "      <th>3</th>\n",
              "      <td>1SCL_A</td>\n",
              "    </tr>\n",
              "    <tr>\n",
              "      <th>4</th>\n",
              "      <td>1SCL_A</td>\n",
              "    </tr>\n",
              "    <tr>\n",
              "      <th>...</th>\n",
              "      <td>...</td>\n",
              "    </tr>\n",
              "    <tr>\n",
              "      <th>137090</th>\n",
              "      <td>8Z1F_T</td>\n",
              "    </tr>\n",
              "    <tr>\n",
              "      <th>137091</th>\n",
              "      <td>8Z1F_T</td>\n",
              "    </tr>\n",
              "    <tr>\n",
              "      <th>137092</th>\n",
              "      <td>8Z1F_T</td>\n",
              "    </tr>\n",
              "    <tr>\n",
              "      <th>137093</th>\n",
              "      <td>8Z1F_T</td>\n",
              "    </tr>\n",
              "    <tr>\n",
              "      <th>137094</th>\n",
              "      <td>8Z1F_T</td>\n",
              "    </tr>\n",
              "  </tbody>\n",
              "</table>\n",
              "<p>137095 rows × 1 columns</p>\n",
              "</div><br><label><b>dtype:</b> object</label>"
            ]
          },
          "metadata": {},
          "execution_count": 6
        }
      ]
    },
    {
      "cell_type": "code",
      "source": [
        "float('Nan')"
      ],
      "metadata": {
        "colab": {
          "base_uri": "https://localhost:8080/"
        },
        "id": "QqAVHtV5drJn",
        "outputId": "8f8f5af7-990f-4123-8847-f46400e52bfa"
      },
      "execution_count": null,
      "outputs": [
        {
          "output_type": "execute_result",
          "data": {
            "text/plain": [
              "nan"
            ]
          },
          "metadata": {},
          "execution_count": 7
        }
      ]
    },
    {
      "cell_type": "code",
      "source": [
        "all_xyz=[]\n",
        "\n",
        "#\n",
        "for pdb_id in tqdm(train_sequences[\"target_id\"]):\n",
        "  df = train_labels[train_labels[\"pdb_id\"]==pdb_id]\n",
        "  #break\n",
        "  xyz=df[['x_1', 'y_1', 'z_1']].to_numpy().astype('float32')\n",
        "  xyz[xyz<-1e17]=float('Nan');\n",
        "  all_xyz.append(xyz)\n",
        "\n",
        "df"
      ],
      "metadata": {
        "colab": {
          "base_uri": "https://localhost:8080/",
          "height": 442
        },
        "id": "3fTSoVzGfOBx",
        "outputId": "d4135215-e299-48dc-9d71-9d3073546a7a"
      },
      "execution_count": null,
      "outputs": [
        {
          "output_type": "stream",
          "name": "stderr",
          "text": [
            "100%|██████████| 844/844 [00:08<00:00, 97.48it/s]\n"
          ]
        },
        {
          "output_type": "execute_result",
          "data": {
            "text/plain": [
              "               ID resname  resid         x_1         y_1         z_1  pdb_id\n",
              "137009   8Z1F_T_1       G      1  103.195999  112.251000  104.455002  8Z1F_T\n",
              "137010   8Z1F_T_2       G      2  107.467003  108.984001  106.205002  8Z1F_T\n",
              "137011   8Z1F_T_3       U      3  111.919998  107.942001  109.775002  8Z1F_T\n",
              "137012   8Z1F_T_4       A      4  114.685997  108.813003  114.404999  8Z1F_T\n",
              "137013   8Z1F_T_5       A      5  114.921997  110.031998  120.849998  8Z1F_T\n",
              "...           ...     ...    ...         ...         ...         ...     ...\n",
              "137090  8Z1F_T_82       U     82         NaN         NaN         NaN  8Z1F_T\n",
              "137091  8Z1F_T_83       C     83         NaN         NaN         NaN  8Z1F_T\n",
              "137092  8Z1F_T_84       A     84         NaN         NaN         NaN  8Z1F_T\n",
              "137093  8Z1F_T_85       U     85         NaN         NaN         NaN  8Z1F_T\n",
              "137094  8Z1F_T_86       A     86         NaN         NaN         NaN  8Z1F_T\n",
              "\n",
              "[86 rows x 7 columns]"
            ],
            "text/html": [
              "\n",
              "  <div id=\"df-8d314a8c-5579-4683-be1a-10192aaf9f79\" class=\"colab-df-container\">\n",
              "    <div>\n",
              "<style scoped>\n",
              "    .dataframe tbody tr th:only-of-type {\n",
              "        vertical-align: middle;\n",
              "    }\n",
              "\n",
              "    .dataframe tbody tr th {\n",
              "        vertical-align: top;\n",
              "    }\n",
              "\n",
              "    .dataframe thead th {\n",
              "        text-align: right;\n",
              "    }\n",
              "</style>\n",
              "<table border=\"1\" class=\"dataframe\">\n",
              "  <thead>\n",
              "    <tr style=\"text-align: right;\">\n",
              "      <th></th>\n",
              "      <th>ID</th>\n",
              "      <th>resname</th>\n",
              "      <th>resid</th>\n",
              "      <th>x_1</th>\n",
              "      <th>y_1</th>\n",
              "      <th>z_1</th>\n",
              "      <th>pdb_id</th>\n",
              "    </tr>\n",
              "  </thead>\n",
              "  <tbody>\n",
              "    <tr>\n",
              "      <th>137009</th>\n",
              "      <td>8Z1F_T_1</td>\n",
              "      <td>G</td>\n",
              "      <td>1</td>\n",
              "      <td>103.195999</td>\n",
              "      <td>112.251000</td>\n",
              "      <td>104.455002</td>\n",
              "      <td>8Z1F_T</td>\n",
              "    </tr>\n",
              "    <tr>\n",
              "      <th>137010</th>\n",
              "      <td>8Z1F_T_2</td>\n",
              "      <td>G</td>\n",
              "      <td>2</td>\n",
              "      <td>107.467003</td>\n",
              "      <td>108.984001</td>\n",
              "      <td>106.205002</td>\n",
              "      <td>8Z1F_T</td>\n",
              "    </tr>\n",
              "    <tr>\n",
              "      <th>137011</th>\n",
              "      <td>8Z1F_T_3</td>\n",
              "      <td>U</td>\n",
              "      <td>3</td>\n",
              "      <td>111.919998</td>\n",
              "      <td>107.942001</td>\n",
              "      <td>109.775002</td>\n",
              "      <td>8Z1F_T</td>\n",
              "    </tr>\n",
              "    <tr>\n",
              "      <th>137012</th>\n",
              "      <td>8Z1F_T_4</td>\n",
              "      <td>A</td>\n",
              "      <td>4</td>\n",
              "      <td>114.685997</td>\n",
              "      <td>108.813003</td>\n",
              "      <td>114.404999</td>\n",
              "      <td>8Z1F_T</td>\n",
              "    </tr>\n",
              "    <tr>\n",
              "      <th>137013</th>\n",
              "      <td>8Z1F_T_5</td>\n",
              "      <td>A</td>\n",
              "      <td>5</td>\n",
              "      <td>114.921997</td>\n",
              "      <td>110.031998</td>\n",
              "      <td>120.849998</td>\n",
              "      <td>8Z1F_T</td>\n",
              "    </tr>\n",
              "    <tr>\n",
              "      <th>...</th>\n",
              "      <td>...</td>\n",
              "      <td>...</td>\n",
              "      <td>...</td>\n",
              "      <td>...</td>\n",
              "      <td>...</td>\n",
              "      <td>...</td>\n",
              "      <td>...</td>\n",
              "    </tr>\n",
              "    <tr>\n",
              "      <th>137090</th>\n",
              "      <td>8Z1F_T_82</td>\n",
              "      <td>U</td>\n",
              "      <td>82</td>\n",
              "      <td>NaN</td>\n",
              "      <td>NaN</td>\n",
              "      <td>NaN</td>\n",
              "      <td>8Z1F_T</td>\n",
              "    </tr>\n",
              "    <tr>\n",
              "      <th>137091</th>\n",
              "      <td>8Z1F_T_83</td>\n",
              "      <td>C</td>\n",
              "      <td>83</td>\n",
              "      <td>NaN</td>\n",
              "      <td>NaN</td>\n",
              "      <td>NaN</td>\n",
              "      <td>8Z1F_T</td>\n",
              "    </tr>\n",
              "    <tr>\n",
              "      <th>137092</th>\n",
              "      <td>8Z1F_T_84</td>\n",
              "      <td>A</td>\n",
              "      <td>84</td>\n",
              "      <td>NaN</td>\n",
              "      <td>NaN</td>\n",
              "      <td>NaN</td>\n",
              "      <td>8Z1F_T</td>\n",
              "    </tr>\n",
              "    <tr>\n",
              "      <th>137093</th>\n",
              "      <td>8Z1F_T_85</td>\n",
              "      <td>U</td>\n",
              "      <td>85</td>\n",
              "      <td>NaN</td>\n",
              "      <td>NaN</td>\n",
              "      <td>NaN</td>\n",
              "      <td>8Z1F_T</td>\n",
              "    </tr>\n",
              "    <tr>\n",
              "      <th>137094</th>\n",
              "      <td>8Z1F_T_86</td>\n",
              "      <td>A</td>\n",
              "      <td>86</td>\n",
              "      <td>NaN</td>\n",
              "      <td>NaN</td>\n",
              "      <td>NaN</td>\n",
              "      <td>8Z1F_T</td>\n",
              "    </tr>\n",
              "  </tbody>\n",
              "</table>\n",
              "<p>86 rows × 7 columns</p>\n",
              "</div>\n",
              "    <div class=\"colab-df-buttons\">\n",
              "\n",
              "  <div class=\"colab-df-container\">\n",
              "    <button class=\"colab-df-convert\" onclick=\"convertToInteractive('df-8d314a8c-5579-4683-be1a-10192aaf9f79')\"\n",
              "            title=\"Convert this dataframe to an interactive table.\"\n",
              "            style=\"display:none;\">\n",
              "\n",
              "  <svg xmlns=\"http://www.w3.org/2000/svg\" height=\"24px\" viewBox=\"0 -960 960 960\">\n",
              "    <path d=\"M120-120v-720h720v720H120Zm60-500h600v-160H180v160Zm220 220h160v-160H400v160Zm0 220h160v-160H400v160ZM180-400h160v-160H180v160Zm440 0h160v-160H620v160ZM180-180h160v-160H180v160Zm440 0h160v-160H620v160Z\"/>\n",
              "  </svg>\n",
              "    </button>\n",
              "\n",
              "  <style>\n",
              "    .colab-df-container {\n",
              "      display:flex;\n",
              "      gap: 12px;\n",
              "    }\n",
              "\n",
              "    .colab-df-convert {\n",
              "      background-color: #E8F0FE;\n",
              "      border: none;\n",
              "      border-radius: 50%;\n",
              "      cursor: pointer;\n",
              "      display: none;\n",
              "      fill: #1967D2;\n",
              "      height: 32px;\n",
              "      padding: 0 0 0 0;\n",
              "      width: 32px;\n",
              "    }\n",
              "\n",
              "    .colab-df-convert:hover {\n",
              "      background-color: #E2EBFA;\n",
              "      box-shadow: 0px 1px 2px rgba(60, 64, 67, 0.3), 0px 1px 3px 1px rgba(60, 64, 67, 0.15);\n",
              "      fill: #174EA6;\n",
              "    }\n",
              "\n",
              "    .colab-df-buttons div {\n",
              "      margin-bottom: 4px;\n",
              "    }\n",
              "\n",
              "    [theme=dark] .colab-df-convert {\n",
              "      background-color: #3B4455;\n",
              "      fill: #D2E3FC;\n",
              "    }\n",
              "\n",
              "    [theme=dark] .colab-df-convert:hover {\n",
              "      background-color: #434B5C;\n",
              "      box-shadow: 0px 1px 3px 1px rgba(0, 0, 0, 0.15);\n",
              "      filter: drop-shadow(0px 1px 2px rgba(0, 0, 0, 0.3));\n",
              "      fill: #FFFFFF;\n",
              "    }\n",
              "  </style>\n",
              "\n",
              "    <script>\n",
              "      const buttonEl =\n",
              "        document.querySelector('#df-8d314a8c-5579-4683-be1a-10192aaf9f79 button.colab-df-convert');\n",
              "      buttonEl.style.display =\n",
              "        google.colab.kernel.accessAllowed ? 'block' : 'none';\n",
              "\n",
              "      async function convertToInteractive(key) {\n",
              "        const element = document.querySelector('#df-8d314a8c-5579-4683-be1a-10192aaf9f79');\n",
              "        const dataTable =\n",
              "          await google.colab.kernel.invokeFunction('convertToInteractive',\n",
              "                                                    [key], {});\n",
              "        if (!dataTable) return;\n",
              "\n",
              "        const docLinkHtml = 'Like what you see? Visit the ' +\n",
              "          '<a target=\"_blank\" href=https://colab.research.google.com/notebooks/data_table.ipynb>data table notebook</a>'\n",
              "          + ' to learn more about interactive tables.';\n",
              "        element.innerHTML = '';\n",
              "        dataTable['output_type'] = 'display_data';\n",
              "        await google.colab.output.renderOutput(dataTable, element);\n",
              "        const docLink = document.createElement('div');\n",
              "        docLink.innerHTML = docLinkHtml;\n",
              "        element.appendChild(docLink);\n",
              "      }\n",
              "    </script>\n",
              "  </div>\n",
              "\n",
              "\n",
              "<div id=\"df-3fa0a49e-955b-4c19-adb9-0544016ce763\">\n",
              "  <button class=\"colab-df-quickchart\" onclick=\"quickchart('df-3fa0a49e-955b-4c19-adb9-0544016ce763')\"\n",
              "            title=\"Suggest charts\"\n",
              "            style=\"display:none;\">\n",
              "\n",
              "<svg xmlns=\"http://www.w3.org/2000/svg\" height=\"24px\"viewBox=\"0 0 24 24\"\n",
              "     width=\"24px\">\n",
              "    <g>\n",
              "        <path d=\"M19 3H5c-1.1 0-2 .9-2 2v14c0 1.1.9 2 2 2h14c1.1 0 2-.9 2-2V5c0-1.1-.9-2-2-2zM9 17H7v-7h2v7zm4 0h-2V7h2v10zm4 0h-2v-4h2v4z\"/>\n",
              "    </g>\n",
              "</svg>\n",
              "  </button>\n",
              "\n",
              "<style>\n",
              "  .colab-df-quickchart {\n",
              "      --bg-color: #E8F0FE;\n",
              "      --fill-color: #1967D2;\n",
              "      --hover-bg-color: #E2EBFA;\n",
              "      --hover-fill-color: #174EA6;\n",
              "      --disabled-fill-color: #AAA;\n",
              "      --disabled-bg-color: #DDD;\n",
              "  }\n",
              "\n",
              "  [theme=dark] .colab-df-quickchart {\n",
              "      --bg-color: #3B4455;\n",
              "      --fill-color: #D2E3FC;\n",
              "      --hover-bg-color: #434B5C;\n",
              "      --hover-fill-color: #FFFFFF;\n",
              "      --disabled-bg-color: #3B4455;\n",
              "      --disabled-fill-color: #666;\n",
              "  }\n",
              "\n",
              "  .colab-df-quickchart {\n",
              "    background-color: var(--bg-color);\n",
              "    border: none;\n",
              "    border-radius: 50%;\n",
              "    cursor: pointer;\n",
              "    display: none;\n",
              "    fill: var(--fill-color);\n",
              "    height: 32px;\n",
              "    padding: 0;\n",
              "    width: 32px;\n",
              "  }\n",
              "\n",
              "  .colab-df-quickchart:hover {\n",
              "    background-color: var(--hover-bg-color);\n",
              "    box-shadow: 0 1px 2px rgba(60, 64, 67, 0.3), 0 1px 3px 1px rgba(60, 64, 67, 0.15);\n",
              "    fill: var(--button-hover-fill-color);\n",
              "  }\n",
              "\n",
              "  .colab-df-quickchart-complete:disabled,\n",
              "  .colab-df-quickchart-complete:disabled:hover {\n",
              "    background-color: var(--disabled-bg-color);\n",
              "    fill: var(--disabled-fill-color);\n",
              "    box-shadow: none;\n",
              "  }\n",
              "\n",
              "  .colab-df-spinner {\n",
              "    border: 2px solid var(--fill-color);\n",
              "    border-color: transparent;\n",
              "    border-bottom-color: var(--fill-color);\n",
              "    animation:\n",
              "      spin 1s steps(1) infinite;\n",
              "  }\n",
              "\n",
              "  @keyframes spin {\n",
              "    0% {\n",
              "      border-color: transparent;\n",
              "      border-bottom-color: var(--fill-color);\n",
              "      border-left-color: var(--fill-color);\n",
              "    }\n",
              "    20% {\n",
              "      border-color: transparent;\n",
              "      border-left-color: var(--fill-color);\n",
              "      border-top-color: var(--fill-color);\n",
              "    }\n",
              "    30% {\n",
              "      border-color: transparent;\n",
              "      border-left-color: var(--fill-color);\n",
              "      border-top-color: var(--fill-color);\n",
              "      border-right-color: var(--fill-color);\n",
              "    }\n",
              "    40% {\n",
              "      border-color: transparent;\n",
              "      border-right-color: var(--fill-color);\n",
              "      border-top-color: var(--fill-color);\n",
              "    }\n",
              "    60% {\n",
              "      border-color: transparent;\n",
              "      border-right-color: var(--fill-color);\n",
              "    }\n",
              "    80% {\n",
              "      border-color: transparent;\n",
              "      border-right-color: var(--fill-color);\n",
              "      border-bottom-color: var(--fill-color);\n",
              "    }\n",
              "    90% {\n",
              "      border-color: transparent;\n",
              "      border-bottom-color: var(--fill-color);\n",
              "    }\n",
              "  }\n",
              "</style>\n",
              "\n",
              "  <script>\n",
              "    async function quickchart(key) {\n",
              "      const quickchartButtonEl =\n",
              "        document.querySelector('#' + key + ' button');\n",
              "      quickchartButtonEl.disabled = true;  // To prevent multiple clicks.\n",
              "      quickchartButtonEl.classList.add('colab-df-spinner');\n",
              "      try {\n",
              "        const charts = await google.colab.kernel.invokeFunction(\n",
              "            'suggestCharts', [key], {});\n",
              "      } catch (error) {\n",
              "        console.error('Error during call to suggestCharts:', error);\n",
              "      }\n",
              "      quickchartButtonEl.classList.remove('colab-df-spinner');\n",
              "      quickchartButtonEl.classList.add('colab-df-quickchart-complete');\n",
              "    }\n",
              "    (() => {\n",
              "      let quickchartButtonEl =\n",
              "        document.querySelector('#df-3fa0a49e-955b-4c19-adb9-0544016ce763 button');\n",
              "      quickchartButtonEl.style.display =\n",
              "        google.colab.kernel.accessAllowed ? 'block' : 'none';\n",
              "    })();\n",
              "  </script>\n",
              "</div>\n",
              "\n",
              "  <div id=\"id_2415dcfa-0d89-4646-8216-fbcafb2fa6b0\">\n",
              "    <style>\n",
              "      .colab-df-generate {\n",
              "        background-color: #E8F0FE;\n",
              "        border: none;\n",
              "        border-radius: 50%;\n",
              "        cursor: pointer;\n",
              "        display: none;\n",
              "        fill: #1967D2;\n",
              "        height: 32px;\n",
              "        padding: 0 0 0 0;\n",
              "        width: 32px;\n",
              "      }\n",
              "\n",
              "      .colab-df-generate:hover {\n",
              "        background-color: #E2EBFA;\n",
              "        box-shadow: 0px 1px 2px rgba(60, 64, 67, 0.3), 0px 1px 3px 1px rgba(60, 64, 67, 0.15);\n",
              "        fill: #174EA6;\n",
              "      }\n",
              "\n",
              "      [theme=dark] .colab-df-generate {\n",
              "        background-color: #3B4455;\n",
              "        fill: #D2E3FC;\n",
              "      }\n",
              "\n",
              "      [theme=dark] .colab-df-generate:hover {\n",
              "        background-color: #434B5C;\n",
              "        box-shadow: 0px 1px 3px 1px rgba(0, 0, 0, 0.15);\n",
              "        filter: drop-shadow(0px 1px 2px rgba(0, 0, 0, 0.3));\n",
              "        fill: #FFFFFF;\n",
              "      }\n",
              "    </style>\n",
              "    <button class=\"colab-df-generate\" onclick=\"generateWithVariable('df')\"\n",
              "            title=\"Generate code using this dataframe.\"\n",
              "            style=\"display:none;\">\n",
              "\n",
              "  <svg xmlns=\"http://www.w3.org/2000/svg\" height=\"24px\"viewBox=\"0 0 24 24\"\n",
              "       width=\"24px\">\n",
              "    <path d=\"M7,19H8.4L18.45,9,17,7.55,7,17.6ZM5,21V16.75L18.45,3.32a2,2,0,0,1,2.83,0l1.4,1.43a1.91,1.91,0,0,1,.58,1.4,1.91,1.91,0,0,1-.58,1.4L9.25,21ZM18.45,9,17,7.55Zm-12,3A5.31,5.31,0,0,0,4.9,8.1,5.31,5.31,0,0,0,1,6.5,5.31,5.31,0,0,0,4.9,4.9,5.31,5.31,0,0,0,6.5,1,5.31,5.31,0,0,0,8.1,4.9,5.31,5.31,0,0,0,12,6.5,5.46,5.46,0,0,0,6.5,12Z\"/>\n",
              "  </svg>\n",
              "    </button>\n",
              "    <script>\n",
              "      (() => {\n",
              "      const buttonEl =\n",
              "        document.querySelector('#id_2415dcfa-0d89-4646-8216-fbcafb2fa6b0 button.colab-df-generate');\n",
              "      buttonEl.style.display =\n",
              "        google.colab.kernel.accessAllowed ? 'block' : 'none';\n",
              "\n",
              "      buttonEl.onclick = () => {\n",
              "        google.colab.notebook.generateWithVariable('df');\n",
              "      }\n",
              "      })();\n",
              "    </script>\n",
              "  </div>\n",
              "\n",
              "    </div>\n",
              "  </div>\n"
            ],
            "application/vnd.google.colaboratory.intrinsic+json": {
              "type": "dataframe",
              "variable_name": "df",
              "summary": "{\n  \"name\": \"df\",\n  \"rows\": 86,\n  \"fields\": [\n    {\n      \"column\": \"ID\",\n      \"properties\": {\n        \"dtype\": \"string\",\n        \"num_unique_values\": 86,\n        \"samples\": [\n          \"8Z1F_T_76\",\n          \"8Z1F_T_1\",\n          \"8Z1F_T_71\"\n        ],\n        \"semantic_type\": \"\",\n        \"description\": \"\"\n      }\n    },\n    {\n      \"column\": \"resname\",\n      \"properties\": {\n        \"dtype\": \"category\",\n        \"num_unique_values\": 4,\n        \"samples\": [\n          \"U\",\n          \"C\",\n          \"G\"\n        ],\n        \"semantic_type\": \"\",\n        \"description\": \"\"\n      }\n    },\n    {\n      \"column\": \"resid\",\n      \"properties\": {\n        \"dtype\": \"number\",\n        \"std\": 24,\n        \"min\": 1,\n        \"max\": 86,\n        \"num_unique_values\": 86,\n        \"samples\": [\n          76,\n          1,\n          71\n        ],\n        \"semantic_type\": \"\",\n        \"description\": \"\"\n      }\n    },\n    {\n      \"column\": \"x_1\",\n      \"properties\": {\n        \"dtype\": \"number\",\n        \"std\": 7.42534077756048,\n        \"min\": 93.62599945,\n        \"max\": 122.7470016,\n        \"num_unique_values\": 66,\n        \"samples\": [\n          104.9049988,\n          115.2929993,\n          103.1959991\n        ],\n        \"semantic_type\": \"\",\n        \"description\": \"\"\n      }\n    },\n    {\n      \"column\": \"y_1\",\n      \"properties\": {\n        \"dtype\": \"number\",\n        \"std\": 11.4150265944613,\n        \"min\": 85.78700256,\n        \"max\": 135.6239929,\n        \"num_unique_values\": 66,\n        \"samples\": [\n          94.23200226,\n          116.5719986,\n          112.2509995\n        ],\n        \"semantic_type\": \"\",\n        \"description\": \"\"\n      }\n    },\n    {\n      \"column\": \"z_1\",\n      \"properties\": {\n        \"dtype\": \"number\",\n        \"std\": 18.769727777201997,\n        \"min\": 98.0719986,\n        \"max\": 170.802002,\n        \"num_unique_values\": 66,\n        \"samples\": [\n          121.3119965,\n          114.8270035,\n          104.4550018\n        ],\n        \"semantic_type\": \"\",\n        \"description\": \"\"\n      }\n    },\n    {\n      \"column\": \"pdb_id\",\n      \"properties\": {\n        \"dtype\": \"category\",\n        \"num_unique_values\": 1,\n        \"samples\": [\n          \"8Z1F_T\"\n        ],\n        \"semantic_type\": \"\",\n        \"description\": \"\"\n      }\n    }\n  ]\n}"
            }
          },
          "metadata": {},
          "execution_count": 8
        }
      ]
    },
    {
      "cell_type": "code",
      "source": [
        "# filter the data\n",
        "# Filter and process data\n",
        "filter_nan = []\n",
        "max_len = 0\n",
        "for xyz in all_xyz:\n",
        "  if len(xyz) > max_len:\n",
        "    max_len = len(xyz)\n",
        "\n",
        "  #fill -1e18 masked sequences to nans\n",
        "\n",
        "  #sugar_xyz = np.stack([nt_xyz['sugar_ring] for nt_xyz in xyz], axis=0)\n",
        "  filter_nan.append((np.isnan(xyz).mean() <=0.5) & \\\n",
        "                    (len(xyz)<config['max_len_filter']) & \\\n",
        "                    (len(xyz)>config['min_len_filter']))\n",
        "print(f\"Longest sequence in train: {max_len}\")\n",
        "\n",
        "filter_nan = np.array(filter_nan)\n",
        "non_nan_indices = np.arange(len(filter_nan))[filter_nan]\n",
        "\n",
        "train_sequences = train_sequences.loc[non_nan_indices].reset_index(drop=True)\n",
        "all_xyz=[all_xyz[i] for i in non_nan_indices]"
      ],
      "metadata": {
        "colab": {
          "base_uri": "https://localhost:8080/"
        },
        "id": "F4QNVIIwfxmO",
        "outputId": "237fc7a7-56cf-4a78-81c8-1302cf1c8beb"
      },
      "execution_count": null,
      "outputs": [
        {
          "output_type": "stream",
          "name": "stdout",
          "text": [
            "Longest sequence in train: 4298\n"
          ]
        }
      ]
    },
    {
      "cell_type": "code",
      "source": [
        "#pack data into a dictionary\n",
        "\n",
        "data={\n",
        "      \"sequence\":train_sequences['sequence'].to_list(),\n",
        "      \"temporal_cutoff\": train_sequences['temporal_cutoff'].to_list(),\n",
        "      \"description\": train_sequences['description'].to_list(),\n",
        "      \"all_sequences\": train_sequences['all_sequences'].to_list(),\n",
        "      \"xyz\": all_xyz\n",
        "}"
      ],
      "metadata": {
        "id": "Xz_sWLFGgd6L"
      },
      "execution_count": null,
      "outputs": []
    },
    {
      "cell_type": "code",
      "source": [
        "# Split data into train and test\n",
        "all_index = np.arange(len(data['sequence']))\n",
        "cutoff_date = pd.Timestamp(config['cutoff_date'])\n",
        "test_cutoff_date = pd.Timestamp(config['test_cutoff_date'])\n",
        "train_index = [i for i, d in enumerate(data['temporal_cutoff']) if pd.Timestamp(d) <= cutoff_date]\n",
        "test_index = [i for i, d in enumerate(data['temporal_cutoff']) if pd.Timestamp(d) > cutoff_date and pd.Timestamp(d) <= test_cutoff_date]"
      ],
      "metadata": {
        "id": "pU1dUc7qgfkC"
      },
      "execution_count": null,
      "outputs": []
    },
    {
      "cell_type": "code",
      "source": [
        "print(f\"Train size: {len(train_index)}\")\n",
        "print(f\"Test size: {len(test_index)}\")"
      ],
      "metadata": {
        "colab": {
          "base_uri": "https://localhost:8080/"
        },
        "id": "sluYdNTSghqZ",
        "outputId": "b59d5d43-3fa4-4f9d-e9e6-252e13895c42"
      },
      "execution_count": null,
      "outputs": [
        {
          "output_type": "stream",
          "name": "stdout",
          "text": [
            "Train size: 542\n",
            "Test size: 80\n"
          ]
        }
      ]
    },
    {
      "cell_type": "code",
      "source": [
        "from torch.utils.data import Dataset, DataLoader\n",
        "from ast import literal_eval\n",
        "\n",
        "def get_ct(bp,s):\n",
        "    ct_matrix=np.zeros((len(s),len(s)))\n",
        "    for b in bp:\n",
        "        ct_matrix[b[0]-1,b[1]-1]=1\n",
        "    return ct_matrix\n",
        "\n",
        "class RNA3D_Dataset(Dataset):\n",
        "    def __init__(self,indices,data):\n",
        "        self.indices=indices\n",
        "        self.data=data\n",
        "        self.tokens={nt:i for i,nt in enumerate('ACGU')}\n",
        "\n",
        "    def __len__(self):\n",
        "        return len(self.indices)\n",
        "\n",
        "    def __getitem__(self, idx):\n",
        "\n",
        "        idx=self.indices[idx]\n",
        "        sequence=[self.tokens[nt] for nt in (self.data['sequence'][idx])]\n",
        "        sequence=np.array(sequence)\n",
        "        sequence=torch.tensor(sequence)\n",
        "\n",
        "        #get C1' xyz\n",
        "        xyz=self.data['xyz'][idx]\n",
        "        xyz=torch.tensor(np.array(xyz))\n",
        "\n",
        "\n",
        "        if len(sequence)>config['max_len']:\n",
        "            crop_start=np.random.randint(len(sequence)-config['max_len'])\n",
        "            crop_end=crop_start+config['max_len']\n",
        "\n",
        "            sequence=sequence[crop_start:crop_end]\n",
        "            xyz=xyz[crop_start:crop_end]\n",
        "\n",
        "\n",
        "        return {'sequence':sequence,\n",
        "                'xyz':xyz}"
      ],
      "metadata": {
        "id": "CfPpyjihgjSs"
      },
      "execution_count": null,
      "outputs": []
    },
    {
      "cell_type": "code",
      "source": [
        "train_dataset=RNA3D_Dataset(train_index,data)\n",
        "val_dataset=RNA3D_Dataset(test_index,data)"
      ],
      "metadata": {
        "id": "6wb0XRUEglBi"
      },
      "execution_count": null,
      "outputs": []
    },
    {
      "cell_type": "code",
      "source": [
        "import plotly.graph_objects as go\n",
        "import numpy as np\n",
        "\n",
        "\n",
        "\n",
        "# Example: Generate an Nx3 matrix\n",
        "xyz = train_dataset[200]['xyz']  # Replace this with your actual Nx3 data\n",
        "N = len(xyz)\n",
        "\n",
        "\n",
        "for _ in range(2): #plot twice because it doesnt show up on first try for some reason\n",
        "    # Extract columns\n",
        "    x, y, z = xyz[:, 0], xyz[:, 1], xyz[:, 2]\n",
        "\n",
        "    # Create the 3D scatter plot\n",
        "    fig = go.Figure(data=[go.Scatter3d(\n",
        "        x=x, y=y, z=z,\n",
        "        mode='markers',\n",
        "        marker=dict(\n",
        "            size=5,\n",
        "            color=z,  # Coloring based on z-value\n",
        "            colorscale='Viridis',  # Choose a colorscale\n",
        "            opacity=0.8\n",
        "        )\n",
        "    )])\n",
        "\n",
        "    # Customize layout\n",
        "    fig.update_layout(\n",
        "        scene=dict(\n",
        "            xaxis_title=\"X\",\n",
        "            yaxis_title=\"Y\",\n",
        "            zaxis_title=\"Z\"\n",
        "        ),\n",
        "        title=\"3D Scatter Plot\"\n",
        "    )\n",
        "\n",
        "fig.show()\n"
      ],
      "metadata": {
        "colab": {
          "base_uri": "https://localhost:8080/",
          "height": 542
        },
        "id": "u5c5Sv7lgmGs",
        "outputId": "42edc117-b570-4cb2-982d-3c451aaeac6d"
      },
      "execution_count": null,
      "outputs": [
        {
          "output_type": "display_data",
          "data": {
            "text/html": [
              "<html>\n",
              "<head><meta charset=\"utf-8\" /></head>\n",
              "<body>\n",
              "    <div>            <script src=\"https://cdnjs.cloudflare.com/ajax/libs/mathjax/2.7.5/MathJax.js?config=TeX-AMS-MML_SVG\"></script><script type=\"text/javascript\">if (window.MathJax && window.MathJax.Hub && window.MathJax.Hub.Config) {window.MathJax.Hub.Config({SVG: {font: \"STIX-Web\"}});}</script>                <script type=\"text/javascript\">window.PlotlyConfig = {MathJaxConfig: 'local'};</script>\n",
              "        <script charset=\"utf-8\" src=\"https://cdn.plot.ly/plotly-2.35.2.min.js\"></script>                <div id=\"47debcbf-d758-4fba-a093-b7d0a66c6747\" class=\"plotly-graph-div\" style=\"height:525px; width:100%;\"></div>            <script type=\"text/javascript\">                                    window.PLOTLYENV=window.PLOTLYENV || {};                                    if (document.getElementById(\"47debcbf-d758-4fba-a093-b7d0a66c6747\")) {                    Plotly.newPlot(                        \"47debcbf-d758-4fba-a093-b7d0a66c6747\",                        [{\"marker\":{\"color\":[154.615,148.024,142.896,140.169,137.563,136.952,135.138,128.608,126.919,132.816,133.262,131.336,127.95,122.032,121.28,122.164,116.933,112.248,109.671,116.625,115.869,119.624,118.334,121.155,124.6,128.597,130.363,129.459,125.456,121.122,117.29,115.467,117.498,120.964,124.006,130.263,132.125,129.148,124.713,120.249,115.907,114.247,115.601,118.962,123.159,125.588,127.173,126.294,134.921,134.193,132.344,129.745,126.339,122.021,117.137,110.487,113.69,119.656,123.623,122.945,124.206,128.354,132.269,136.573,140.823,142.604,143.255,144.001,144.778,148.377,null,null,null,null,null,null],\"colorscale\":[[0.0,\"#440154\"],[0.1111111111111111,\"#482878\"],[0.2222222222222222,\"#3e4989\"],[0.3333333333333333,\"#31688e\"],[0.4444444444444444,\"#26828e\"],[0.5555555555555556,\"#1f9e89\"],[0.6666666666666666,\"#35b779\"],[0.7777777777777778,\"#6ece58\"],[0.8888888888888888,\"#b5de2b\"],[1.0,\"#fde725\"]],\"opacity\":0.8,\"size\":5},\"mode\":\"markers\",\"x\":[116.203,119.349,117.892,112.561,107.852,103.232,99.938,95.874,88.079,83.445,85.004,87.823,91.247,93.846,98.663,105.846,109.021,106.294,99.613,96.924,95.127,94.918,90.937,86.906,83.313,80.192,78.487,76.708,74.138,70.967,67.654,64.494,61.034,56.659,49.759,52.993,57.96,61.179,63.944,65.609,68.085,71.17,74.333,77.485,80.918,85.341,91.766,97.938,99.753,102.439,107.546,112.04,115.364,116.505,115.225,113.182,109.252,107.751,101.196,105.227,113.048,116.007,115.355,113.223,108.247,102.606,100.182,101.821,106.467,111.927,null,null,null,null,null,null],\"y\":[58.432,54.06,51.643,50.315,50.504,53.765,58.959,58.926,61.994,61.759,56.05,51.351,51.8,51.56,53.542,50.66,58.157,59.985,56.534,60.412,68.236,60.766,55.475,52.311,51.159,52.704,57.163,62.474,65.335,65.921,64.514,60.257,57.013,57.185,59.419,55.799,54.798,52.584,49.746,50.957,54.071,57.961,61.442,64.807,66.662,65.467,63.222,62.459,65.489,69.952,72.418,71.857,68.573,65.524,64.678,67.134,64.817,63.348,60.56,57.02,59.152,61.709,65.162,67.833,68.888,66.279,58.94,52.75,49.583,44.027,null,null,null,null,null,null],\"z\":[154.615,148.024,142.896,140.169,137.563,136.952,135.138,128.608,126.919,132.816,133.262,131.336,127.95,122.032,121.28,122.164,116.933,112.248,109.671,116.625,115.869,119.624,118.334,121.155,124.6,128.597,130.363,129.459,125.456,121.122,117.29,115.467,117.498,120.964,124.006,130.263,132.125,129.148,124.713,120.249,115.907,114.247,115.601,118.962,123.159,125.588,127.173,126.294,134.921,134.193,132.344,129.745,126.339,122.021,117.137,110.487,113.69,119.656,123.623,122.945,124.206,128.354,132.269,136.573,140.823,142.604,143.255,144.001,144.778,148.377,null,null,null,null,null,null],\"type\":\"scatter3d\"}],                        {\"template\":{\"data\":{\"histogram2dcontour\":[{\"type\":\"histogram2dcontour\",\"colorbar\":{\"outlinewidth\":0,\"ticks\":\"\"},\"colorscale\":[[0.0,\"#0d0887\"],[0.1111111111111111,\"#46039f\"],[0.2222222222222222,\"#7201a8\"],[0.3333333333333333,\"#9c179e\"],[0.4444444444444444,\"#bd3786\"],[0.5555555555555556,\"#d8576b\"],[0.6666666666666666,\"#ed7953\"],[0.7777777777777778,\"#fb9f3a\"],[0.8888888888888888,\"#fdca26\"],[1.0,\"#f0f921\"]]}],\"choropleth\":[{\"type\":\"choropleth\",\"colorbar\":{\"outlinewidth\":0,\"ticks\":\"\"}}],\"histogram2d\":[{\"type\":\"histogram2d\",\"colorbar\":{\"outlinewidth\":0,\"ticks\":\"\"},\"colorscale\":[[0.0,\"#0d0887\"],[0.1111111111111111,\"#46039f\"],[0.2222222222222222,\"#7201a8\"],[0.3333333333333333,\"#9c179e\"],[0.4444444444444444,\"#bd3786\"],[0.5555555555555556,\"#d8576b\"],[0.6666666666666666,\"#ed7953\"],[0.7777777777777778,\"#fb9f3a\"],[0.8888888888888888,\"#fdca26\"],[1.0,\"#f0f921\"]]}],\"heatmap\":[{\"type\":\"heatmap\",\"colorbar\":{\"outlinewidth\":0,\"ticks\":\"\"},\"colorscale\":[[0.0,\"#0d0887\"],[0.1111111111111111,\"#46039f\"],[0.2222222222222222,\"#7201a8\"],[0.3333333333333333,\"#9c179e\"],[0.4444444444444444,\"#bd3786\"],[0.5555555555555556,\"#d8576b\"],[0.6666666666666666,\"#ed7953\"],[0.7777777777777778,\"#fb9f3a\"],[0.8888888888888888,\"#fdca26\"],[1.0,\"#f0f921\"]]}],\"heatmapgl\":[{\"type\":\"heatmapgl\",\"colorbar\":{\"outlinewidth\":0,\"ticks\":\"\"},\"colorscale\":[[0.0,\"#0d0887\"],[0.1111111111111111,\"#46039f\"],[0.2222222222222222,\"#7201a8\"],[0.3333333333333333,\"#9c179e\"],[0.4444444444444444,\"#bd3786\"],[0.5555555555555556,\"#d8576b\"],[0.6666666666666666,\"#ed7953\"],[0.7777777777777778,\"#fb9f3a\"],[0.8888888888888888,\"#fdca26\"],[1.0,\"#f0f921\"]]}],\"contourcarpet\":[{\"type\":\"contourcarpet\",\"colorbar\":{\"outlinewidth\":0,\"ticks\":\"\"}}],\"contour\":[{\"type\":\"contour\",\"colorbar\":{\"outlinewidth\":0,\"ticks\":\"\"},\"colorscale\":[[0.0,\"#0d0887\"],[0.1111111111111111,\"#46039f\"],[0.2222222222222222,\"#7201a8\"],[0.3333333333333333,\"#9c179e\"],[0.4444444444444444,\"#bd3786\"],[0.5555555555555556,\"#d8576b\"],[0.6666666666666666,\"#ed7953\"],[0.7777777777777778,\"#fb9f3a\"],[0.8888888888888888,\"#fdca26\"],[1.0,\"#f0f921\"]]}],\"surface\":[{\"type\":\"surface\",\"colorbar\":{\"outlinewidth\":0,\"ticks\":\"\"},\"colorscale\":[[0.0,\"#0d0887\"],[0.1111111111111111,\"#46039f\"],[0.2222222222222222,\"#7201a8\"],[0.3333333333333333,\"#9c179e\"],[0.4444444444444444,\"#bd3786\"],[0.5555555555555556,\"#d8576b\"],[0.6666666666666666,\"#ed7953\"],[0.7777777777777778,\"#fb9f3a\"],[0.8888888888888888,\"#fdca26\"],[1.0,\"#f0f921\"]]}],\"mesh3d\":[{\"type\":\"mesh3d\",\"colorbar\":{\"outlinewidth\":0,\"ticks\":\"\"}}],\"scatter\":[{\"fillpattern\":{\"fillmode\":\"overlay\",\"size\":10,\"solidity\":0.2},\"type\":\"scatter\"}],\"parcoords\":[{\"type\":\"parcoords\",\"line\":{\"colorbar\":{\"outlinewidth\":0,\"ticks\":\"\"}}}],\"scatterpolargl\":[{\"type\":\"scatterpolargl\",\"marker\":{\"colorbar\":{\"outlinewidth\":0,\"ticks\":\"\"}}}],\"bar\":[{\"error_x\":{\"color\":\"#2a3f5f\"},\"error_y\":{\"color\":\"#2a3f5f\"},\"marker\":{\"line\":{\"color\":\"#E5ECF6\",\"width\":0.5},\"pattern\":{\"fillmode\":\"overlay\",\"size\":10,\"solidity\":0.2}},\"type\":\"bar\"}],\"scattergeo\":[{\"type\":\"scattergeo\",\"marker\":{\"colorbar\":{\"outlinewidth\":0,\"ticks\":\"\"}}}],\"scatterpolar\":[{\"type\":\"scatterpolar\",\"marker\":{\"colorbar\":{\"outlinewidth\":0,\"ticks\":\"\"}}}],\"histogram\":[{\"marker\":{\"pattern\":{\"fillmode\":\"overlay\",\"size\":10,\"solidity\":0.2}},\"type\":\"histogram\"}],\"scattergl\":[{\"type\":\"scattergl\",\"marker\":{\"colorbar\":{\"outlinewidth\":0,\"ticks\":\"\"}}}],\"scatter3d\":[{\"type\":\"scatter3d\",\"line\":{\"colorbar\":{\"outlinewidth\":0,\"ticks\":\"\"}},\"marker\":{\"colorbar\":{\"outlinewidth\":0,\"ticks\":\"\"}}}],\"scattermapbox\":[{\"type\":\"scattermapbox\",\"marker\":{\"colorbar\":{\"outlinewidth\":0,\"ticks\":\"\"}}}],\"scatterternary\":[{\"type\":\"scatterternary\",\"marker\":{\"colorbar\":{\"outlinewidth\":0,\"ticks\":\"\"}}}],\"scattercarpet\":[{\"type\":\"scattercarpet\",\"marker\":{\"colorbar\":{\"outlinewidth\":0,\"ticks\":\"\"}}}],\"carpet\":[{\"aaxis\":{\"endlinecolor\":\"#2a3f5f\",\"gridcolor\":\"white\",\"linecolor\":\"white\",\"minorgridcolor\":\"white\",\"startlinecolor\":\"#2a3f5f\"},\"baxis\":{\"endlinecolor\":\"#2a3f5f\",\"gridcolor\":\"white\",\"linecolor\":\"white\",\"minorgridcolor\":\"white\",\"startlinecolor\":\"#2a3f5f\"},\"type\":\"carpet\"}],\"table\":[{\"cells\":{\"fill\":{\"color\":\"#EBF0F8\"},\"line\":{\"color\":\"white\"}},\"header\":{\"fill\":{\"color\":\"#C8D4E3\"},\"line\":{\"color\":\"white\"}},\"type\":\"table\"}],\"barpolar\":[{\"marker\":{\"line\":{\"color\":\"#E5ECF6\",\"width\":0.5},\"pattern\":{\"fillmode\":\"overlay\",\"size\":10,\"solidity\":0.2}},\"type\":\"barpolar\"}],\"pie\":[{\"automargin\":true,\"type\":\"pie\"}]},\"layout\":{\"autotypenumbers\":\"strict\",\"colorway\":[\"#636efa\",\"#EF553B\",\"#00cc96\",\"#ab63fa\",\"#FFA15A\",\"#19d3f3\",\"#FF6692\",\"#B6E880\",\"#FF97FF\",\"#FECB52\"],\"font\":{\"color\":\"#2a3f5f\"},\"hovermode\":\"closest\",\"hoverlabel\":{\"align\":\"left\"},\"paper_bgcolor\":\"white\",\"plot_bgcolor\":\"#E5ECF6\",\"polar\":{\"bgcolor\":\"#E5ECF6\",\"angularaxis\":{\"gridcolor\":\"white\",\"linecolor\":\"white\",\"ticks\":\"\"},\"radialaxis\":{\"gridcolor\":\"white\",\"linecolor\":\"white\",\"ticks\":\"\"}},\"ternary\":{\"bgcolor\":\"#E5ECF6\",\"aaxis\":{\"gridcolor\":\"white\",\"linecolor\":\"white\",\"ticks\":\"\"},\"baxis\":{\"gridcolor\":\"white\",\"linecolor\":\"white\",\"ticks\":\"\"},\"caxis\":{\"gridcolor\":\"white\",\"linecolor\":\"white\",\"ticks\":\"\"}},\"coloraxis\":{\"colorbar\":{\"outlinewidth\":0,\"ticks\":\"\"}},\"colorscale\":{\"sequential\":[[0.0,\"#0d0887\"],[0.1111111111111111,\"#46039f\"],[0.2222222222222222,\"#7201a8\"],[0.3333333333333333,\"#9c179e\"],[0.4444444444444444,\"#bd3786\"],[0.5555555555555556,\"#d8576b\"],[0.6666666666666666,\"#ed7953\"],[0.7777777777777778,\"#fb9f3a\"],[0.8888888888888888,\"#fdca26\"],[1.0,\"#f0f921\"]],\"sequentialminus\":[[0.0,\"#0d0887\"],[0.1111111111111111,\"#46039f\"],[0.2222222222222222,\"#7201a8\"],[0.3333333333333333,\"#9c179e\"],[0.4444444444444444,\"#bd3786\"],[0.5555555555555556,\"#d8576b\"],[0.6666666666666666,\"#ed7953\"],[0.7777777777777778,\"#fb9f3a\"],[0.8888888888888888,\"#fdca26\"],[1.0,\"#f0f921\"]],\"diverging\":[[0,\"#8e0152\"],[0.1,\"#c51b7d\"],[0.2,\"#de77ae\"],[0.3,\"#f1b6da\"],[0.4,\"#fde0ef\"],[0.5,\"#f7f7f7\"],[0.6,\"#e6f5d0\"],[0.7,\"#b8e186\"],[0.8,\"#7fbc41\"],[0.9,\"#4d9221\"],[1,\"#276419\"]]},\"xaxis\":{\"gridcolor\":\"white\",\"linecolor\":\"white\",\"ticks\":\"\",\"title\":{\"standoff\":15},\"zerolinecolor\":\"white\",\"automargin\":true,\"zerolinewidth\":2},\"yaxis\":{\"gridcolor\":\"white\",\"linecolor\":\"white\",\"ticks\":\"\",\"title\":{\"standoff\":15},\"zerolinecolor\":\"white\",\"automargin\":true,\"zerolinewidth\":2},\"scene\":{\"xaxis\":{\"backgroundcolor\":\"#E5ECF6\",\"gridcolor\":\"white\",\"linecolor\":\"white\",\"showbackground\":true,\"ticks\":\"\",\"zerolinecolor\":\"white\",\"gridwidth\":2},\"yaxis\":{\"backgroundcolor\":\"#E5ECF6\",\"gridcolor\":\"white\",\"linecolor\":\"white\",\"showbackground\":true,\"ticks\":\"\",\"zerolinecolor\":\"white\",\"gridwidth\":2},\"zaxis\":{\"backgroundcolor\":\"#E5ECF6\",\"gridcolor\":\"white\",\"linecolor\":\"white\",\"showbackground\":true,\"ticks\":\"\",\"zerolinecolor\":\"white\",\"gridwidth\":2}},\"shapedefaults\":{\"line\":{\"color\":\"#2a3f5f\"}},\"annotationdefaults\":{\"arrowcolor\":\"#2a3f5f\",\"arrowhead\":0,\"arrowwidth\":1},\"geo\":{\"bgcolor\":\"white\",\"landcolor\":\"#E5ECF6\",\"subunitcolor\":\"white\",\"showland\":true,\"showlakes\":true,\"lakecolor\":\"white\"},\"title\":{\"x\":0.05},\"mapbox\":{\"style\":\"light\"}}},\"scene\":{\"xaxis\":{\"title\":{\"text\":\"X\"}},\"yaxis\":{\"title\":{\"text\":\"Y\"}},\"zaxis\":{\"title\":{\"text\":\"Z\"}}},\"title\":{\"text\":\"3D Scatter Plot\"}},                        {\"responsive\": true}                    ).then(function(){\n",
              "                            \n",
              "var gd = document.getElementById('47debcbf-d758-4fba-a093-b7d0a66c6747');\n",
              "var x = new MutationObserver(function (mutations, observer) {{\n",
              "        var display = window.getComputedStyle(gd).display;\n",
              "        if (!display || display === 'none') {{\n",
              "            console.log([gd, 'removed!']);\n",
              "            Plotly.purge(gd);\n",
              "            observer.disconnect();\n",
              "        }}\n",
              "}});\n",
              "\n",
              "// Listen for the removal of the full notebook cells\n",
              "var notebookContainer = gd.closest('#notebook-container');\n",
              "if (notebookContainer) {{\n",
              "    x.observe(notebookContainer, {childList: true});\n",
              "}}\n",
              "\n",
              "// Listen for the clearing of the current output cell\n",
              "var outputEl = gd.closest('.output');\n",
              "if (outputEl) {{\n",
              "    x.observe(outputEl, {childList: true});\n",
              "}}\n",
              "\n",
              "                        })                };                            </script>        </div>\n",
              "</body>\n",
              "</html>"
            ]
          },
          "metadata": {}
        }
      ]
    },
    {
      "cell_type": "code",
      "source": [
        "train_loader=DataLoader(train_dataset,batch_size=1,shuffle=True)\n",
        "val_loader=DataLoader(val_dataset,batch_size=1,shuffle=False)"
      ],
      "metadata": {
        "id": "BUP_ObAJgoTZ"
      },
      "execution_count": null,
      "outputs": []
    },
    {
      "cell_type": "code",
      "source": [
        "! pip install einops"
      ],
      "metadata": {
        "colab": {
          "base_uri": "https://localhost:8080/"
        },
        "id": "uOTMrDThgpWK",
        "outputId": "008cf79d-88df-4ea7-8337-729d6307a8f0"
      },
      "execution_count": null,
      "outputs": [
        {
          "output_type": "stream",
          "name": "stdout",
          "text": [
            "Requirement already satisfied: einops in /usr/local/lib/python3.11/dist-packages (0.8.1)\n"
          ]
        }
      ]
    },
    {
      "cell_type": "code",
      "source": [
        "import sys\n",
        "\n",
        "sys.path.append(\"/content/drive/MyDrive/Colab Notebooks/RNA_DATA/ribonanzanet2d-final\")\n",
        "\n",
        "\n",
        "from Network import *\n",
        "import yaml\n",
        "\n",
        "\n",
        "\n",
        "class Config:\n",
        "    def __init__(self, **entries):\n",
        "        self.__dict__.update(entries)\n",
        "        self.entries=entries\n",
        "\n",
        "    def print(self):\n",
        "        print(self.entries)\n",
        "\n",
        "def load_config_from_yaml(file_path):\n",
        "    with open(file_path, 'r') as file:\n",
        "        config = yaml.safe_load(file)\n",
        "    return Config(**config)\n",
        "\n",
        "\n",
        "\n",
        "class finetuned_RibonanzaNet(RibonanzaNet):\n",
        "    def __init__(self, config, pretrained=False):\n",
        "        config.dropout=0.1\n",
        "        super(finetuned_RibonanzaNet, self).__init__(config)\n",
        "        if pretrained:\n",
        "            self.load_state_dict(torch.load(\"/content/drive/MyDrive/Colab Notebooks/RNA_DATA/ribonanzanet-weights/RibonanzaNet.pt\",map_location='cpu'))\n",
        "        # self.ct_predictor=nn.Sequential(nn.Linear(64,256),\n",
        "        #                                 nn.ReLU(),\n",
        "        #                                 nn.Linear(256,64),\n",
        "        #                                 nn.ReLU(),\n",
        "        #                                 nn.Linear(64,1))\n",
        "        self.dropout=nn.Dropout(0.0)\n",
        "        self.xyz_predictor=nn.Linear(256,3)\n",
        "\n",
        "\n",
        "\n",
        "    def forward(self,src):\n",
        "\n",
        "        #with torch.no_grad():\n",
        "        sequence_features, pairwise_features=self.get_embeddings(src, torch.ones_like(src).long().to(src.device))\n",
        "\n",
        "\n",
        "        xyz=self.xyz_predictor(sequence_features)\n",
        "\n",
        "        return xyz"
      ],
      "metadata": {
        "id": "svc2I-fBgq2J"
      },
      "execution_count": null,
      "outputs": []
    },
    {
      "cell_type": "code",
      "source": [
        "model=finetuned_RibonanzaNet(load_config_from_yaml(\"/content/drive/MyDrive/Colab Notebooks/RNA_DATA/ribonanzanet2d-final/configs/pairwise.yaml\"),pretrained=True).cuda()\n"
      ],
      "metadata": {
        "colab": {
          "base_uri": "https://localhost:8080/"
        },
        "id": "vJHBAJ3hgtab",
        "outputId": "7834075d-aa81-4be4-fc68-fc6058e37c03"
      },
      "execution_count": null,
      "outputs": [
        {
          "output_type": "stream",
          "name": "stdout",
          "text": [
            "constructing 9 ConvTransformerEncoderLayers\n"
          ]
        }
      ]
    },
    {
      "cell_type": "code",
      "source": [
        "def calculate_distance_matrix(X,Y,epsilon=1e-4):\n",
        "    return (torch.square(X[:,None]-Y[None,:])+epsilon).sum(-1).sqrt()\n",
        "\n",
        "\n",
        "def dRMSD(pred_x,\n",
        "          pred_y,\n",
        "          gt_x,\n",
        "          gt_y,\n",
        "          epsilon=1e-4,Z=10,d_clamp=None):\n",
        "    pred_dm=calculate_distance_matrix(pred_x,pred_y)\n",
        "    gt_dm=calculate_distance_matrix(gt_x,gt_y)\n",
        "\n",
        "\n",
        "\n",
        "    mask=~torch.isnan(gt_dm)\n",
        "    mask[torch.eye(mask.shape[0]).bool()]=False\n",
        "\n",
        "    if d_clamp is not None:\n",
        "        rmsd=(torch.square(pred_dm[mask]-gt_dm[mask])+epsilon).clip(0,d_clamp**2)\n",
        "    else:\n",
        "        rmsd=torch.square(pred_dm[mask]-gt_dm[mask])+epsilon\n",
        "\n",
        "    return rmsd.sqrt().mean()/Z\n",
        "\n",
        "def local_dRMSD(pred_x,\n",
        "          pred_y,\n",
        "          gt_x,\n",
        "          gt_y,\n",
        "          epsilon=1e-4,Z=10,d_clamp=30):\n",
        "    pred_dm=calculate_distance_matrix(pred_x,pred_y)\n",
        "    gt_dm=calculate_distance_matrix(gt_x,gt_y)\n",
        "\n",
        "\n",
        "\n",
        "    mask=(~torch.isnan(gt_dm))*(gt_dm<d_clamp)\n",
        "    mask[torch.eye(mask.shape[0]).bool()]=False\n",
        "\n",
        "\n",
        "\n",
        "    rmsd=torch.square(pred_dm[mask]-gt_dm[mask])+epsilon\n",
        "    # rmsd=(torch.square(pred_dm[mask]-gt_dm[mask])+epsilon).sqrt()/Z\n",
        "    #rmsd=torch.abs(pred_dm[mask]-gt_dm[mask])/Z\n",
        "    return rmsd.sqrt().mean()/Z\n",
        "\n",
        "def dRMAE(pred_x,\n",
        "          pred_y,\n",
        "          gt_x,\n",
        "          gt_y,\n",
        "          epsilon=1e-4,Z=10,d_clamp=None):\n",
        "    pred_dm=calculate_distance_matrix(pred_x,pred_y)\n",
        "    gt_dm=calculate_distance_matrix(gt_x,gt_y)\n",
        "\n",
        "\n",
        "\n",
        "    mask=~torch.isnan(gt_dm)\n",
        "    mask[torch.eye(mask.shape[0]).bool()]=False\n",
        "\n",
        "    rmsd=torch.abs(pred_dm[mask]-gt_dm[mask])\n",
        "\n",
        "    return rmsd.mean()/Z\n",
        "\n",
        "import torch\n",
        "\n",
        "def align_svd_mae(input, target, Z=10):\n",
        "    \"\"\"\n",
        "    Aligns the input (Nx3) to target (Nx3) using SVD-based Procrustes alignment\n",
        "    and computes RMSD loss.\n",
        "\n",
        "    Args:\n",
        "        input (torch.Tensor): Nx3 tensor representing the input points.\n",
        "        target (torch.Tensor): Nx3 tensor representing the target points.\n",
        "\n",
        "    Returns:\n",
        "        aligned_input (torch.Tensor): Nx3 aligned input.\n",
        "        rmsd_loss (torch.Tensor): RMSD loss.\n",
        "    \"\"\"\n",
        "    assert input.shape == target.shape, \"Input and target must have the same shape\"\n",
        "\n",
        "    #mask\n",
        "    mask=~torch.isnan(target.sum(-1))\n",
        "\n",
        "    input=input[mask]\n",
        "    target=target[mask]\n",
        "\n",
        "    # Compute centroids\n",
        "    centroid_input = input.mean(dim=0, keepdim=True)\n",
        "    centroid_target = target.mean(dim=0, keepdim=True)\n",
        "\n",
        "    # Center the points\n",
        "    input_centered = input - centroid_input.detach()\n",
        "    target_centered = target - centroid_target\n",
        "\n",
        "    # Compute covariance matrix\n",
        "    cov_matrix = input_centered.T @ target_centered\n",
        "\n",
        "    # SVD to find optimal rotation\n",
        "    U, S, Vt = torch.svd(cov_matrix)\n",
        "\n",
        "    # Compute rotation matrix\n",
        "    R = Vt @ U.T\n",
        "\n",
        "    # Ensure a proper rotation (det(R) = 1, no reflection)\n",
        "    if torch.det(R) < 0:\n",
        "        Vt[-1, :] *= -1\n",
        "        R = Vt @ U.T\n",
        "\n",
        "    # Rotate input\n",
        "    aligned_input = (input_centered @ R.T.detach()) + centroid_target.detach()\n",
        "\n",
        "    # # Compute RMSD loss\n",
        "    # rmsd_loss = torch.sqrt(((aligned_input - target) ** 2).mean())\n",
        "\n",
        "    # rmsd_loss = torch.sqrt(((aligned_input - target) ** 2).mean())\n",
        "\n",
        "    # return aligned_input, rmsd_loss\n",
        "    return torch.abs(aligned_input-target).mean()/Z"
      ],
      "metadata": {
        "id": "sU-nhoRyg_zn"
      },
      "execution_count": null,
      "outputs": []
    },
    {
      "cell_type": "code",
      "source": [
        "from tqdm import tqdm\n",
        "from torch.amp import GradScaler\n",
        "\n",
        "epochs=50\n",
        "cos_epoch=35\n",
        "\n",
        "\n",
        "best_loss=np.inf\n",
        "optimizer = torch.optim.Adam(model.parameters(), weight_decay=0.0, lr=0.0001) #no weight decay following AF\n",
        "\n",
        "batch_size=1\n",
        "\n",
        "#for cycle in range(2):\n",
        "\n",
        "criterion=torch.nn.BCEWithLogitsLoss(reduction='none')\n",
        "\n",
        "scaler = GradScaler()\n",
        "\n",
        "schedule=torch.optim.lr_scheduler.CosineAnnealingLR(optimizer, T_max=(epochs-cos_epoch)*len(train_loader)//batch_size)\n",
        "\n",
        "best_val_loss=99999999999\n",
        "for epoch in range(epochs):\n",
        "    model.train()\n",
        "    tbar=tqdm(train_loader)\n",
        "    total_loss=0\n",
        "    oom=0\n",
        "    for idx, batch in enumerate(tbar):\n",
        "        #try:\n",
        "        sequence=batch['sequence'].cuda()\n",
        "        gt_xyz=batch['xyz'].cuda().squeeze()\n",
        "\n",
        "        #with torch.autocast(device_type='cuda', dtype=torch.float16):\n",
        "        pred_xyz=model(sequence).squeeze()\n",
        "\n",
        "        loss=dRMAE(pred_xyz,pred_xyz,gt_xyz,gt_xyz) + align_svd_mae(pred_xyz, gt_xyz)\n",
        "             #local_dRMSD(pred_xyz,pred_xyz,gt_xyz,gt_xyz)\n",
        "\n",
        "        if loss!=loss:\n",
        "            stop\n",
        "\n",
        "\n",
        "        (loss/batch_size).backward()\n",
        "\n",
        "        if (idx+1)%batch_size==0 or idx+1 == len(tbar):\n",
        "\n",
        "            torch.nn.utils.clip_grad_norm_(model.parameters(), 1)\n",
        "            optimizer.step()\n",
        "            optimizer.zero_grad()\n",
        "            # scaler.scale(loss/batch_size).backward()\n",
        "            # scaler.unscale_(optimizer)\n",
        "            # torch.nn.utils.clip_grad_norm_(model.parameters(), 1)\n",
        "            # scaler.step(optimizer)\n",
        "            # scaler.update()\n",
        "\n",
        "\n",
        "            if (epoch+1)>cos_epoch:\n",
        "                schedule.step()\n",
        "        #schedule.step()\n",
        "        total_loss+=loss.item()\n",
        "\n",
        "        tbar.set_description(f\"Epoch {epoch + 1} Loss: {total_loss/(idx+1)} OOMs: {oom}\")\n",
        "\n",
        "\n",
        "\n",
        "        # except Exception:\n",
        "        #     #print(Exception)\n",
        "        #     oom+=1\n",
        "    tbar=tqdm(val_loader)\n",
        "    model.eval()\n",
        "    val_preds=[]\n",
        "    val_loss=0\n",
        "    for idx, batch in enumerate(tbar):\n",
        "        sequence=batch['sequence'].cuda()\n",
        "        gt_xyz=batch['xyz'].cuda().squeeze()\n",
        "\n",
        "        with torch.no_grad():\n",
        "            pred_xyz=model(sequence).squeeze()\n",
        "            loss=dRMAE(pred_xyz,pred_xyz,gt_xyz,gt_xyz)\n",
        "\n",
        "        val_loss+=loss.item()\n",
        "        val_preds.append([gt_xyz.cpu().numpy(),pred_xyz.cpu().numpy()])\n",
        "    val_loss=val_loss/len(tbar)\n",
        "    print(f\"val loss: {val_loss}\")\n",
        "\n",
        "\n",
        "\n",
        "    if val_loss<best_val_loss:\n",
        "        best_val_loss=val_loss\n",
        "        best_preds=val_preds\n",
        "        torch.save(model.state_dict(),'RibonanzaNet-3D.pt')\n",
        "\n",
        "    # 1.053595052265986 train loss after epoch 0\n",
        "torch.save(model.state_dict(),'RibonanzaNet-3D-final.pt')"
      ],
      "metadata": {
        "colab": {
          "base_uri": "https://localhost:8080/"
        },
        "id": "CbnruX0ThCCC",
        "outputId": "909a1876-eefc-47d4-824a-0d05323981fb"
      },
      "execution_count": null,
      "outputs": [
        {
          "output_type": "stream",
          "name": "stderr",
          "text": [
            "\r  0%|          | 0/542 [00:00<?, ?it/s]/usr/local/lib/python3.11/dist-packages/torch/_dynamo/eval_frame.py:745: UserWarning:\n",
            "\n",
            "torch.utils.checkpoint: the use_reentrant parameter should be passed explicitly. In version 2.5 we will raise an exception if use_reentrant is not passed. use_reentrant=False is recommended, but if you need to preserve the current default behavior, you can pass use_reentrant=True. Refer to docs for more details on the differences between the two variants.\n",
            "\n",
            "Epoch 1 Loss: 3.2220509021484545 OOMs: 0: 100%|██████████| 542/542 [01:32<00:00,  5.86it/s]\n",
            "  0%|          | 0/80 [00:00<?, ?it/s]/usr/local/lib/python3.11/dist-packages/torch/utils/checkpoint.py:87: UserWarning:\n",
            "\n",
            "None of the inputs have requires_grad=True. Gradients will be None\n",
            "\n",
            "100%|██████████| 80/80 [00:04<00:00, 18.23it/s]\n"
          ]
        },
        {
          "output_type": "stream",
          "name": "stdout",
          "text": [
            "val loss: 3.147537238895893\n"
          ]
        },
        {
          "output_type": "stream",
          "name": "stderr",
          "text": [
            "Epoch 2 Loss: 2.5763137090909964 OOMs: 0: 100%|██████████| 542/542 [01:29<00:00,  6.09it/s]\n",
            "100%|██████████| 80/80 [00:04<00:00, 18.35it/s]\n"
          ]
        },
        {
          "output_type": "stream",
          "name": "stdout",
          "text": [
            "val loss: 2.5725802034139633\n"
          ]
        },
        {
          "output_type": "stream",
          "name": "stderr",
          "text": [
            "Epoch 3 Loss: 2.060368769118267 OOMs: 0: 100%|██████████| 542/542 [01:29<00:00,  6.06it/s]\n",
            "100%|██████████| 80/80 [00:04<00:00, 18.52it/s]\n"
          ]
        },
        {
          "output_type": "stream",
          "name": "stdout",
          "text": [
            "val loss: 2.073958469182253\n"
          ]
        },
        {
          "output_type": "stream",
          "name": "stderr",
          "text": [
            "Epoch 4 Loss: 1.8677558203904832 OOMs: 0: 100%|██████████| 542/542 [01:29<00:00,  6.06it/s]\n",
            "100%|██████████| 80/80 [00:04<00:00, 18.49it/s]\n"
          ]
        },
        {
          "output_type": "stream",
          "name": "stdout",
          "text": [
            "val loss: 1.864227869734168\n"
          ]
        },
        {
          "output_type": "stream",
          "name": "stderr",
          "text": [
            "Epoch 5 Loss: 1.7094296843803236 OOMs: 0: 100%|██████████| 542/542 [01:28<00:00,  6.12it/s]\n",
            "100%|██████████| 80/80 [00:04<00:00, 18.39it/s]\n"
          ]
        },
        {
          "output_type": "stream",
          "name": "stdout",
          "text": [
            "val loss: 1.7439701043069362\n"
          ]
        },
        {
          "output_type": "stream",
          "name": "stderr",
          "text": [
            "Epoch 6 Loss: 1.6031643666904352 OOMs: 0: 100%|██████████| 542/542 [01:28<00:00,  6.15it/s]\n",
            "100%|██████████| 80/80 [00:04<00:00, 18.48it/s]\n"
          ]
        },
        {
          "output_type": "stream",
          "name": "stdout",
          "text": [
            "val loss: 1.6472794273868203\n"
          ]
        },
        {
          "output_type": "stream",
          "name": "stderr",
          "text": [
            "Epoch 7 Loss: 1.5322405225786335 OOMs: 0: 100%|██████████| 542/542 [01:28<00:00,  6.15it/s]\n",
            "100%|██████████| 80/80 [00:04<00:00, 18.15it/s]\n"
          ]
        },
        {
          "output_type": "stream",
          "name": "stdout",
          "text": [
            "val loss: 1.5996657667681575\n"
          ]
        },
        {
          "output_type": "stream",
          "name": "stderr",
          "text": [
            "Epoch 8 Loss: 1.461285957386133 OOMs: 0: 100%|██████████| 542/542 [01:28<00:00,  6.13it/s]\n",
            "100%|██████████| 80/80 [00:04<00:00, 18.57it/s]\n"
          ]
        },
        {
          "output_type": "stream",
          "name": "stdout",
          "text": [
            "val loss: 1.539158627949655\n"
          ]
        },
        {
          "output_type": "stream",
          "name": "stderr",
          "text": [
            "Epoch 9 Loss: 1.4466680658369486 OOMs: 0: 100%|██████████| 542/542 [01:28<00:00,  6.10it/s]\n",
            "100%|██████████| 80/80 [00:04<00:00, 18.40it/s]\n"
          ]
        },
        {
          "output_type": "stream",
          "name": "stdout",
          "text": [
            "val loss: 1.472761670127511\n"
          ]
        },
        {
          "output_type": "stream",
          "name": "stderr",
          "text": [
            "Epoch 10 Loss: 1.419885346920288 OOMs: 0: 100%|██████████| 542/542 [01:28<00:00,  6.09it/s]\n",
            "100%|██████████| 80/80 [00:04<00:00, 18.30it/s]\n"
          ]
        },
        {
          "output_type": "stream",
          "name": "stdout",
          "text": [
            "val loss: 1.4416812611743808\n"
          ]
        },
        {
          "output_type": "stream",
          "name": "stderr",
          "text": [
            "Epoch 11 Loss: 1.350555289935362 OOMs: 0: 100%|██████████| 542/542 [01:29<00:00,  6.07it/s]\n",
            "100%|██████████| 80/80 [00:04<00:00, 18.33it/s]\n"
          ]
        },
        {
          "output_type": "stream",
          "name": "stdout",
          "text": [
            "val loss: 1.4564144374802708\n"
          ]
        },
        {
          "output_type": "stream",
          "name": "stderr",
          "text": [
            "Epoch 12 Loss: 1.3354617590943825 OOMs: 0: 100%|██████████| 542/542 [01:29<00:00,  6.05it/s]\n",
            "100%|██████████| 80/80 [00:04<00:00, 18.56it/s]\n"
          ]
        },
        {
          "output_type": "stream",
          "name": "stdout",
          "text": [
            "val loss: 1.417674846574664\n"
          ]
        },
        {
          "output_type": "stream",
          "name": "stderr",
          "text": [
            "Epoch 13 Loss: 1.3132891990931712 OOMs: 0: 100%|██████████| 542/542 [01:29<00:00,  6.06it/s]\n",
            "100%|██████████| 80/80 [00:04<00:00, 18.38it/s]\n"
          ]
        },
        {
          "output_type": "stream",
          "name": "stdout",
          "text": [
            "val loss: 1.4672505352646112\n"
          ]
        },
        {
          "output_type": "stream",
          "name": "stderr",
          "text": [
            "Epoch 14 Loss: 1.2684290409088135 OOMs: 0: 100%|██████████| 542/542 [01:29<00:00,  6.06it/s]\n",
            "100%|██████████| 80/80 [00:04<00:00, 18.36it/s]\n"
          ]
        },
        {
          "output_type": "stream",
          "name": "stdout",
          "text": [
            "val loss: 1.3901098381727934\n"
          ]
        },
        {
          "output_type": "stream",
          "name": "stderr",
          "text": [
            "Epoch 15 Loss: 1.254725495167764 OOMs: 0: 100%|██████████| 542/542 [01:28<00:00,  6.11it/s]\n",
            "100%|██████████| 80/80 [00:04<00:00, 18.38it/s]\n"
          ]
        },
        {
          "output_type": "stream",
          "name": "stdout",
          "text": [
            "val loss: 1.3784112486056983\n"
          ]
        },
        {
          "output_type": "stream",
          "name": "stderr",
          "text": [
            "Epoch 16 Loss: 1.2163728261125923 OOMs: 0: 100%|██████████| 542/542 [01:28<00:00,  6.13it/s]\n",
            "100%|██████████| 80/80 [00:04<00:00, 18.36it/s]\n"
          ]
        },
        {
          "output_type": "stream",
          "name": "stdout",
          "text": [
            "val loss: 1.373690372891724\n"
          ]
        },
        {
          "output_type": "stream",
          "name": "stderr",
          "text": [
            "Epoch 17 Loss: 1.1904584686254662 OOMs: 0: 100%|██████████| 542/542 [01:28<00:00,  6.15it/s]\n",
            "100%|██████████| 80/80 [00:04<00:00, 18.26it/s]\n"
          ]
        },
        {
          "output_type": "stream",
          "name": "stdout",
          "text": [
            "val loss: 1.2767485700547696\n"
          ]
        },
        {
          "output_type": "stream",
          "name": "stderr",
          "text": [
            "Epoch 18 Loss: 1.159861091593095 OOMs: 0: 100%|██████████| 542/542 [01:28<00:00,  6.15it/s]\n",
            "100%|██████████| 80/80 [00:04<00:00, 18.50it/s]\n"
          ]
        },
        {
          "output_type": "stream",
          "name": "stdout",
          "text": [
            "val loss: 1.2774228800088168\n"
          ]
        },
        {
          "output_type": "stream",
          "name": "stderr",
          "text": [
            "Epoch 19 Loss: 1.1656664123284421 OOMs: 0: 100%|██████████| 542/542 [01:27<00:00,  6.18it/s]\n",
            "100%|██████████| 80/80 [00:04<00:00, 18.43it/s]\n"
          ]
        },
        {
          "output_type": "stream",
          "name": "stdout",
          "text": [
            "val loss: 1.2387274676933884\n"
          ]
        },
        {
          "output_type": "stream",
          "name": "stderr",
          "text": [
            "Epoch 20 Loss: 1.125452289557105 OOMs: 0: 100%|██████████| 542/542 [01:28<00:00,  6.10it/s]\n",
            "100%|██████████| 80/80 [00:04<00:00, 18.55it/s]\n"
          ]
        },
        {
          "output_type": "stream",
          "name": "stdout",
          "text": [
            "val loss: 1.2371392032131552\n"
          ]
        },
        {
          "output_type": "stream",
          "name": "stderr",
          "text": [
            "Epoch 21 Loss: 1.110833135478171 OOMs: 0: 100%|██████████| 542/542 [01:28<00:00,  6.15it/s]\n",
            "100%|██████████| 80/80 [00:04<00:00, 18.51it/s]\n"
          ]
        },
        {
          "output_type": "stream",
          "name": "stdout",
          "text": [
            "val loss: 1.2808918325230478\n"
          ]
        },
        {
          "output_type": "stream",
          "name": "stderr",
          "text": [
            "Epoch 22 Loss: 1.0902540876746618 OOMs: 0: 100%|██████████| 542/542 [01:27<00:00,  6.17it/s]\n",
            "100%|██████████| 80/80 [00:04<00:00, 18.13it/s]\n"
          ]
        },
        {
          "output_type": "stream",
          "name": "stdout",
          "text": [
            "val loss: 1.3068129571154714\n"
          ]
        },
        {
          "output_type": "stream",
          "name": "stderr",
          "text": [
            "Epoch 23 Loss: 1.0874614693581839 OOMs: 0: 100%|██████████| 542/542 [01:28<00:00,  6.11it/s]\n",
            "100%|██████████| 80/80 [00:04<00:00, 18.39it/s]\n"
          ]
        },
        {
          "output_type": "stream",
          "name": "stdout",
          "text": [
            "val loss: 1.245852106437087\n"
          ]
        },
        {
          "output_type": "stream",
          "name": "stderr",
          "text": [
            "Epoch 24 Loss: 1.0592550768953408 OOMs: 0: 100%|██████████| 542/542 [01:27<00:00,  6.18it/s]\n",
            "100%|██████████| 80/80 [00:04<00:00, 18.48it/s]\n"
          ]
        },
        {
          "output_type": "stream",
          "name": "stdout",
          "text": [
            "val loss: 1.2056237425655127\n"
          ]
        },
        {
          "output_type": "stream",
          "name": "stderr",
          "text": [
            "Epoch 25 Loss: 1.0624612251440977 OOMs: 0: 100%|██████████| 542/542 [01:27<00:00,  6.17it/s]\n",
            "100%|██████████| 80/80 [00:04<00:00, 18.35it/s]\n"
          ]
        },
        {
          "output_type": "stream",
          "name": "stdout",
          "text": [
            "val loss: 1.2168593298643828\n"
          ]
        },
        {
          "output_type": "stream",
          "name": "stderr",
          "text": [
            "Epoch 26 Loss: 1.0520553661448488 OOMs: 0: 100%|██████████| 542/542 [01:28<00:00,  6.13it/s]\n",
            "100%|██████████| 80/80 [00:04<00:00, 18.43it/s]\n"
          ]
        },
        {
          "output_type": "stream",
          "name": "stdout",
          "text": [
            "val loss: 1.1653822053223848\n"
          ]
        },
        {
          "output_type": "stream",
          "name": "stderr",
          "text": [
            "Epoch 27 Loss: 1.0269857373954625 OOMs: 0: 100%|██████████| 542/542 [01:28<00:00,  6.13it/s]\n",
            "100%|██████████| 80/80 [00:04<00:00, 18.52it/s]\n"
          ]
        },
        {
          "output_type": "stream",
          "name": "stdout",
          "text": [
            "val loss: 1.1986798707395792\n"
          ]
        },
        {
          "output_type": "stream",
          "name": "stderr",
          "text": [
            "Epoch 28 Loss: 1.0253622567631662 OOMs: 0: 100%|██████████| 542/542 [01:28<00:00,  6.12it/s]\n",
            "100%|██████████| 80/80 [00:04<00:00, 18.40it/s]\n"
          ]
        },
        {
          "output_type": "stream",
          "name": "stdout",
          "text": [
            "val loss: 1.1624065461568533\n"
          ]
        },
        {
          "output_type": "stream",
          "name": "stderr",
          "text": [
            "Epoch 29 Loss: 1.012780145360535 OOMs: 0: 100%|██████████| 542/542 [01:27<00:00,  6.17it/s]\n",
            "100%|██████████| 80/80 [00:04<00:00, 18.61it/s]\n"
          ]
        },
        {
          "output_type": "stream",
          "name": "stdout",
          "text": [
            "val loss: 1.250149608962238\n"
          ]
        },
        {
          "output_type": "stream",
          "name": "stderr",
          "text": [
            "Epoch 30 Loss: 1.0179835860909572 OOMs: 0: 100%|██████████| 542/542 [01:28<00:00,  6.16it/s]\n",
            "100%|██████████| 80/80 [00:04<00:00, 18.49it/s]\n"
          ]
        },
        {
          "output_type": "stream",
          "name": "stdout",
          "text": [
            "val loss: 1.1739130143076182\n"
          ]
        },
        {
          "output_type": "stream",
          "name": "stderr",
          "text": [
            "Epoch 31 Loss: 1.0022155696395578 OOMs: 0: 100%|██████████| 542/542 [01:27<00:00,  6.16it/s]\n",
            "100%|██████████| 80/80 [00:04<00:00, 18.51it/s]\n"
          ]
        },
        {
          "output_type": "stream",
          "name": "stdout",
          "text": [
            "val loss: 1.1342084374278785\n"
          ]
        },
        {
          "output_type": "stream",
          "name": "stderr",
          "text": [
            "Epoch 32 Loss: 0.9931010201958272 OOMs: 0: 100%|██████████| 542/542 [01:27<00:00,  6.21it/s]\n",
            "100%|██████████| 80/80 [00:04<00:00, 18.62it/s]\n"
          ]
        },
        {
          "output_type": "stream",
          "name": "stdout",
          "text": [
            "val loss: 1.174108861386776\n"
          ]
        },
        {
          "output_type": "stream",
          "name": "stderr",
          "text": [
            "Epoch 33 Loss: 0.9819342432976649 OOMs: 0: 100%|██████████| 542/542 [01:27<00:00,  6.18it/s]\n",
            "100%|██████████| 80/80 [00:04<00:00, 18.63it/s]\n"
          ]
        },
        {
          "output_type": "stream",
          "name": "stdout",
          "text": [
            "val loss: 1.1533867226913572\n"
          ]
        },
        {
          "output_type": "stream",
          "name": "stderr",
          "text": [
            "Epoch 34 Loss: 0.9829506298932642 OOMs: 0: 100%|██████████| 542/542 [01:27<00:00,  6.18it/s]\n",
            "100%|██████████| 80/80 [00:04<00:00, 18.33it/s]\n"
          ]
        },
        {
          "output_type": "stream",
          "name": "stdout",
          "text": [
            "val loss: 1.1285639091394841\n"
          ]
        },
        {
          "output_type": "stream",
          "name": "stderr",
          "text": [
            "Epoch 35 Loss: 0.9744169779424298 OOMs: 0: 100%|██████████| 542/542 [01:27<00:00,  6.18it/s]\n",
            "100%|██████████| 80/80 [00:04<00:00, 18.44it/s]\n"
          ]
        },
        {
          "output_type": "stream",
          "name": "stdout",
          "text": [
            "val loss: 1.125099384598434\n"
          ]
        },
        {
          "output_type": "stream",
          "name": "stderr",
          "text": [
            "Epoch 36 Loss: 0.9969339949728379 OOMs: 0: 100%|██████████| 542/542 [01:28<00:00,  6.14it/s]\n",
            "100%|██████████| 80/80 [00:04<00:00, 18.53it/s]\n"
          ]
        },
        {
          "output_type": "stream",
          "name": "stdout",
          "text": [
            "val loss: 1.1667677629739046\n"
          ]
        },
        {
          "output_type": "stream",
          "name": "stderr",
          "text": [
            "Epoch 37 Loss: 1.0161577302866316 OOMs: 0: 100%|██████████| 542/542 [01:28<00:00,  6.11it/s]\n",
            "100%|██████████| 80/80 [00:04<00:00, 18.27it/s]\n"
          ]
        },
        {
          "output_type": "stream",
          "name": "stdout",
          "text": [
            "val loss: 1.1152449915185572\n"
          ]
        },
        {
          "output_type": "stream",
          "name": "stderr",
          "text": [
            "Epoch 38 Loss: 1.0023827074418648 OOMs: 0: 100%|██████████| 542/542 [01:27<00:00,  6.16it/s]\n",
            "100%|██████████| 80/80 [00:04<00:00, 18.54it/s]\n"
          ]
        },
        {
          "output_type": "stream",
          "name": "stdout",
          "text": [
            "val loss: 1.1527654878795146\n"
          ]
        },
        {
          "output_type": "stream",
          "name": "stderr",
          "text": [
            "Epoch 39 Loss: 0.9879281921140383 OOMs: 0: 100%|██████████| 542/542 [01:29<00:00,  6.05it/s]\n",
            "100%|██████████| 80/80 [00:04<00:00, 18.51it/s]\n"
          ]
        },
        {
          "output_type": "stream",
          "name": "stdout",
          "text": [
            "val loss: 1.1186880856752395\n"
          ]
        },
        {
          "output_type": "stream",
          "name": "stderr",
          "text": [
            "Epoch 40 Loss: 0.9705443411955534 OOMs: 0: 100%|██████████| 542/542 [01:29<00:00,  6.08it/s]\n",
            "100%|██████████| 80/80 [00:04<00:00, 18.58it/s]\n"
          ]
        },
        {
          "output_type": "stream",
          "name": "stdout",
          "text": [
            "val loss: 1.1005441220477223\n"
          ]
        },
        {
          "output_type": "stream",
          "name": "stderr",
          "text": [
            "Epoch 41 Loss: 0.961172249181904 OOMs: 0: 100%|██████████| 542/542 [01:27<00:00,  6.17it/s]\n",
            "100%|██████████| 80/80 [00:04<00:00, 18.00it/s]\n"
          ]
        },
        {
          "output_type": "stream",
          "name": "stdout",
          "text": [
            "val loss: 1.09687270373106\n"
          ]
        },
        {
          "output_type": "stream",
          "name": "stderr",
          "text": [
            "Epoch 42 Loss: 0.9438104247914909 OOMs: 0: 100%|██████████| 542/542 [01:29<00:00,  6.07it/s]\n",
            "100%|██████████| 80/80 [00:04<00:00, 18.57it/s]\n"
          ]
        },
        {
          "output_type": "stream",
          "name": "stdout",
          "text": [
            "val loss: 1.1181462418287993\n"
          ]
        },
        {
          "output_type": "stream",
          "name": "stderr",
          "text": [
            "Epoch 43 Loss: 0.935250915724413 OOMs: 0: 100%|██████████| 542/542 [01:29<00:00,  6.08it/s]\n",
            "100%|██████████| 80/80 [00:04<00:00, 18.50it/s]\n"
          ]
        },
        {
          "output_type": "stream",
          "name": "stdout",
          "text": [
            "val loss: 1.1200290346518158\n"
          ]
        },
        {
          "output_type": "stream",
          "name": "stderr",
          "text": [
            "Epoch 44 Loss: 0.9242337950646218 OOMs: 0: 100%|██████████| 542/542 [01:28<00:00,  6.12it/s]\n",
            "100%|██████████| 80/80 [00:04<00:00, 18.24it/s]\n"
          ]
        },
        {
          "output_type": "stream",
          "name": "stdout",
          "text": [
            "val loss: 1.141809639427811\n"
          ]
        },
        {
          "output_type": "stream",
          "name": "stderr",
          "text": [
            "Epoch 45 Loss: 0.9135305027020374 OOMs: 0: 100%|██████████| 542/542 [01:28<00:00,  6.12it/s]\n",
            "100%|██████████| 80/80 [00:04<00:00, 18.40it/s]\n"
          ]
        },
        {
          "output_type": "stream",
          "name": "stdout",
          "text": [
            "val loss: 1.0918872646056115\n"
          ]
        },
        {
          "output_type": "stream",
          "name": "stderr",
          "text": [
            "Epoch 46 Loss: 0.9110561373653887 OOMs: 0: 100%|██████████| 542/542 [01:28<00:00,  6.12it/s]\n",
            "100%|██████████| 80/80 [00:04<00:00, 18.14it/s]\n"
          ]
        },
        {
          "output_type": "stream",
          "name": "stdout",
          "text": [
            "val loss: 1.0845405689440668\n"
          ]
        },
        {
          "output_type": "stream",
          "name": "stderr",
          "text": [
            "Epoch 47 Loss: 0.9170929905838192 OOMs: 0: 100%|██████████| 542/542 [01:29<00:00,  6.05it/s]\n",
            "100%|██████████| 80/80 [00:04<00:00, 18.46it/s]\n"
          ]
        },
        {
          "output_type": "stream",
          "name": "stdout",
          "text": [
            "val loss: 1.1429063846357166\n"
          ]
        },
        {
          "output_type": "stream",
          "name": "stderr",
          "text": [
            "Epoch 48 Loss: 0.8837888142939423 OOMs: 0: 100%|██████████| 542/542 [01:28<00:00,  6.14it/s]\n",
            "100%|██████████| 80/80 [00:04<00:00, 18.61it/s]\n"
          ]
        },
        {
          "output_type": "stream",
          "name": "stdout",
          "text": [
            "val loss: 1.1016919179819524\n"
          ]
        },
        {
          "output_type": "stream",
          "name": "stderr",
          "text": [
            "Epoch 49 Loss: 0.8948839230675979 OOMs: 0: 100%|██████████| 542/542 [01:28<00:00,  6.10it/s]\n",
            "100%|██████████| 80/80 [00:04<00:00, 18.42it/s]\n"
          ]
        },
        {
          "output_type": "stream",
          "name": "stdout",
          "text": [
            "val loss: 1.107214194536209\n"
          ]
        },
        {
          "output_type": "stream",
          "name": "stderr",
          "text": [
            "Epoch 50 Loss: 0.8988857603051126 OOMs: 0: 100%|██████████| 542/542 [01:29<00:00,  6.05it/s]\n",
            "100%|██████████| 80/80 [00:04<00:00, 18.61it/s]\n"
          ]
        },
        {
          "output_type": "stream",
          "name": "stdout",
          "text": [
            "val loss: 1.1127295522019267\n"
          ]
        }
      ]
    }
  ]
}